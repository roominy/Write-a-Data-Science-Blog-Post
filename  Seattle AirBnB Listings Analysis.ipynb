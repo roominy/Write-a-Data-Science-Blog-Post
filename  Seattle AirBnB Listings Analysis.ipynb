{
 "cells": [
  {
   "cell_type": "markdown",
   "metadata": {},
   "source": [
    "# Seattle AirBnB Listings Analysis - Write-a-Data-Science-Blog-Post\n",
    "\n",
    "\n",
    "This notebook is a part of Udaicty data scientist nanodegrees program, that aim to creat a blog post exploring and analyze a data set and effectively communicate technical results of the Analysis.\n",
    "\n",
    "\n",
    "The CRISP-DM methodology will be applied in the analysis process of this project."
   ]
  },
  {
   "cell_type": "markdown",
   "metadata": {},
   "source": [
    "## 1. Business understanding\n",
    "For this project, I was interestested in using Seattle AirBnB dataset from Kaggle.\n",
    "In this notebook I will focus on answring the three question below from the dataset:\n",
    "\n",
    "1. What is the best time to visit Seattle (peak seasons, listings prices)?\n",
    "2. What are the number of Airbnb listings in Seattle neighborhoods and the listings rate price?\n",
    "3. Which Airbnb Seattle listings properties have the greatest impact on their prices?\n"
   ]
  },
  {
   "cell_type": "markdown",
   "metadata": {},
   "source": [
    "## 2. Data Understanding\n",
    "Here we will take a look and examine the dataset"
   ]
  },
  {
   "cell_type": "code",
   "execution_count": 1,
   "metadata": {},
   "outputs": [],
   "source": [
    "import pandas as pd\n",
    "import matplotlib.pyplot as plt\n",
    "import seaborn as sb\n",
    "import numpy as np\n",
    "from datetime import datetime\n",
    "\n",
    "# Set base color for plots\n",
    "base_color = sb.color_palette()[9]\n",
    "base_color_2 = sb.color_palette()[0]"
   ]
  },
  {
   "cell_type": "code",
   "execution_count": 2,
   "metadata": {},
   "outputs": [
    {
     "data": {
      "text/html": [
       "<div>\n",
       "<style scoped>\n",
       "    .dataframe tbody tr th:only-of-type {\n",
       "        vertical-align: middle;\n",
       "    }\n",
       "\n",
       "    .dataframe tbody tr th {\n",
       "        vertical-align: top;\n",
       "    }\n",
       "\n",
       "    .dataframe thead th {\n",
       "        text-align: right;\n",
       "    }\n",
       "</style>\n",
       "<table border=\"1\" class=\"dataframe\">\n",
       "  <thead>\n",
       "    <tr style=\"text-align: right;\">\n",
       "      <th></th>\n",
       "      <th>listing_id</th>\n",
       "      <th>date</th>\n",
       "      <th>available</th>\n",
       "      <th>price</th>\n",
       "    </tr>\n",
       "  </thead>\n",
       "  <tbody>\n",
       "    <tr>\n",
       "      <th>0</th>\n",
       "      <td>241032</td>\n",
       "      <td>2016-01-04</td>\n",
       "      <td>t</td>\n",
       "      <td>$85.00</td>\n",
       "    </tr>\n",
       "    <tr>\n",
       "      <th>1</th>\n",
       "      <td>241032</td>\n",
       "      <td>2016-01-05</td>\n",
       "      <td>t</td>\n",
       "      <td>$85.00</td>\n",
       "    </tr>\n",
       "    <tr>\n",
       "      <th>2</th>\n",
       "      <td>241032</td>\n",
       "      <td>2016-01-06</td>\n",
       "      <td>f</td>\n",
       "      <td>NaN</td>\n",
       "    </tr>\n",
       "    <tr>\n",
       "      <th>3</th>\n",
       "      <td>241032</td>\n",
       "      <td>2016-01-07</td>\n",
       "      <td>f</td>\n",
       "      <td>NaN</td>\n",
       "    </tr>\n",
       "    <tr>\n",
       "      <th>4</th>\n",
       "      <td>241032</td>\n",
       "      <td>2016-01-08</td>\n",
       "      <td>f</td>\n",
       "      <td>NaN</td>\n",
       "    </tr>\n",
       "  </tbody>\n",
       "</table>\n",
       "</div>"
      ],
      "text/plain": [
       "   listing_id        date available   price\n",
       "0      241032  2016-01-04         t  $85.00\n",
       "1      241032  2016-01-05         t  $85.00\n",
       "2      241032  2016-01-06         f     NaN\n",
       "3      241032  2016-01-07         f     NaN\n",
       "4      241032  2016-01-08         f     NaN"
      ]
     },
     "execution_count": 2,
     "metadata": {},
     "output_type": "execute_result"
    }
   ],
   "source": [
    "# load calender data set and display head\n",
    "df_calendar = pd.read_csv('./calendar.csv')\n",
    "df_calendar.head()"
   ]
  },
  {
   "cell_type": "code",
   "execution_count": 3,
   "metadata": {},
   "outputs": [
    {
     "data": {
      "text/plain": [
       "'calendar dataframe: Number of rows: 1393570, Number of colunms: 4'"
      ]
     },
     "execution_count": 3,
     "metadata": {},
     "output_type": "execute_result"
    }
   ],
   "source": [
    "# shape of calendar data set\n",
    "\"calendar dataframe: Number of rows: \"+str(df_calendar.shape[0]) +\", Number of colunms: \"+ str(df_calendar.shape[1])"
   ]
  },
  {
   "cell_type": "code",
   "execution_count": 4,
   "metadata": {},
   "outputs": [
    {
     "name": "stdout",
     "output_type": "stream",
     "text": [
      "<class 'pandas.core.frame.DataFrame'>\n",
      "RangeIndex: 1393570 entries, 0 to 1393569\n",
      "Data columns (total 4 columns):\n",
      "listing_id    1393570 non-null int64\n",
      "date          1393570 non-null object\n",
      "available     1393570 non-null object\n",
      "price         934542 non-null object\n",
      "dtypes: int64(1), object(3)\n",
      "memory usage: 42.5+ MB\n"
     ]
    }
   ],
   "source": [
    "#get data set info : columns, number of valuesm and data types\n",
    "df_calendar.info()"
   ]
  },
  {
   "cell_type": "code",
   "execution_count": 5,
   "metadata": {},
   "outputs": [
    {
     "data": {
      "text/plain": [
       "Index(['listing_id', 'date', 'available', 'price'], dtype='object')"
      ]
     },
     "execution_count": 5,
     "metadata": {},
     "output_type": "execute_result"
    }
   ],
   "source": [
    "# check the columns in the calendar dataset\n",
    "df_calendar.columns"
   ]
  },
  {
   "cell_type": "markdown",
   "metadata": {},
   "source": [
    "* Calendar dataset includes the listing id and the price and availability for a single date"
   ]
  },
  {
   "cell_type": "code",
   "execution_count": 6,
   "metadata": {},
   "outputs": [
    {
     "data": {
      "text/html": [
       "<div>\n",
       "<style scoped>\n",
       "    .dataframe tbody tr th:only-of-type {\n",
       "        vertical-align: middle;\n",
       "    }\n",
       "\n",
       "    .dataframe tbody tr th {\n",
       "        vertical-align: top;\n",
       "    }\n",
       "\n",
       "    .dataframe thead th {\n",
       "        text-align: right;\n",
       "    }\n",
       "</style>\n",
       "<table border=\"1\" class=\"dataframe\">\n",
       "  <thead>\n",
       "    <tr style=\"text-align: right;\">\n",
       "      <th></th>\n",
       "      <th>id</th>\n",
       "      <th>listing_url</th>\n",
       "      <th>scrape_id</th>\n",
       "      <th>last_scraped</th>\n",
       "      <th>name</th>\n",
       "      <th>summary</th>\n",
       "      <th>space</th>\n",
       "      <th>description</th>\n",
       "      <th>experiences_offered</th>\n",
       "      <th>neighborhood_overview</th>\n",
       "      <th>...</th>\n",
       "      <th>review_scores_value</th>\n",
       "      <th>requires_license</th>\n",
       "      <th>license</th>\n",
       "      <th>jurisdiction_names</th>\n",
       "      <th>instant_bookable</th>\n",
       "      <th>cancellation_policy</th>\n",
       "      <th>require_guest_profile_picture</th>\n",
       "      <th>require_guest_phone_verification</th>\n",
       "      <th>calculated_host_listings_count</th>\n",
       "      <th>reviews_per_month</th>\n",
       "    </tr>\n",
       "  </thead>\n",
       "  <tbody>\n",
       "    <tr>\n",
       "      <th>0</th>\n",
       "      <td>241032</td>\n",
       "      <td>https://www.airbnb.com/rooms/241032</td>\n",
       "      <td>20160104002432</td>\n",
       "      <td>2016-01-04</td>\n",
       "      <td>Stylish Queen Anne Apartment</td>\n",
       "      <td>NaN</td>\n",
       "      <td>Make your self at home in this charming one-be...</td>\n",
       "      <td>Make your self at home in this charming one-be...</td>\n",
       "      <td>none</td>\n",
       "      <td>NaN</td>\n",
       "      <td>...</td>\n",
       "      <td>10.0</td>\n",
       "      <td>f</td>\n",
       "      <td>NaN</td>\n",
       "      <td>WASHINGTON</td>\n",
       "      <td>f</td>\n",
       "      <td>moderate</td>\n",
       "      <td>f</td>\n",
       "      <td>f</td>\n",
       "      <td>2</td>\n",
       "      <td>4.07</td>\n",
       "    </tr>\n",
       "    <tr>\n",
       "      <th>1</th>\n",
       "      <td>953595</td>\n",
       "      <td>https://www.airbnb.com/rooms/953595</td>\n",
       "      <td>20160104002432</td>\n",
       "      <td>2016-01-04</td>\n",
       "      <td>Bright &amp; Airy Queen Anne Apartment</td>\n",
       "      <td>Chemically sensitive? We've removed the irrita...</td>\n",
       "      <td>Beautiful, hypoallergenic apartment in an extr...</td>\n",
       "      <td>Chemically sensitive? We've removed the irrita...</td>\n",
       "      <td>none</td>\n",
       "      <td>Queen Anne is a wonderful, truly functional vi...</td>\n",
       "      <td>...</td>\n",
       "      <td>10.0</td>\n",
       "      <td>f</td>\n",
       "      <td>NaN</td>\n",
       "      <td>WASHINGTON</td>\n",
       "      <td>f</td>\n",
       "      <td>strict</td>\n",
       "      <td>t</td>\n",
       "      <td>t</td>\n",
       "      <td>6</td>\n",
       "      <td>1.48</td>\n",
       "    </tr>\n",
       "    <tr>\n",
       "      <th>2</th>\n",
       "      <td>3308979</td>\n",
       "      <td>https://www.airbnb.com/rooms/3308979</td>\n",
       "      <td>20160104002432</td>\n",
       "      <td>2016-01-04</td>\n",
       "      <td>New Modern House-Amazing water view</td>\n",
       "      <td>New modern house built in 2013.  Spectacular s...</td>\n",
       "      <td>Our house is modern, light and fresh with a wa...</td>\n",
       "      <td>New modern house built in 2013.  Spectacular s...</td>\n",
       "      <td>none</td>\n",
       "      <td>Upper Queen Anne is a charming neighborhood fu...</td>\n",
       "      <td>...</td>\n",
       "      <td>10.0</td>\n",
       "      <td>f</td>\n",
       "      <td>NaN</td>\n",
       "      <td>WASHINGTON</td>\n",
       "      <td>f</td>\n",
       "      <td>strict</td>\n",
       "      <td>f</td>\n",
       "      <td>f</td>\n",
       "      <td>2</td>\n",
       "      <td>1.15</td>\n",
       "    </tr>\n",
       "    <tr>\n",
       "      <th>3</th>\n",
       "      <td>7421966</td>\n",
       "      <td>https://www.airbnb.com/rooms/7421966</td>\n",
       "      <td>20160104002432</td>\n",
       "      <td>2016-01-04</td>\n",
       "      <td>Queen Anne Chateau</td>\n",
       "      <td>A charming apartment that sits atop Queen Anne...</td>\n",
       "      <td>NaN</td>\n",
       "      <td>A charming apartment that sits atop Queen Anne...</td>\n",
       "      <td>none</td>\n",
       "      <td>NaN</td>\n",
       "      <td>...</td>\n",
       "      <td>NaN</td>\n",
       "      <td>f</td>\n",
       "      <td>NaN</td>\n",
       "      <td>WASHINGTON</td>\n",
       "      <td>f</td>\n",
       "      <td>flexible</td>\n",
       "      <td>f</td>\n",
       "      <td>f</td>\n",
       "      <td>1</td>\n",
       "      <td>NaN</td>\n",
       "    </tr>\n",
       "    <tr>\n",
       "      <th>4</th>\n",
       "      <td>278830</td>\n",
       "      <td>https://www.airbnb.com/rooms/278830</td>\n",
       "      <td>20160104002432</td>\n",
       "      <td>2016-01-04</td>\n",
       "      <td>Charming craftsman 3 bdm house</td>\n",
       "      <td>Cozy family craftman house in beautiful neighb...</td>\n",
       "      <td>Cozy family craftman house in beautiful neighb...</td>\n",
       "      <td>Cozy family craftman house in beautiful neighb...</td>\n",
       "      <td>none</td>\n",
       "      <td>We are in the beautiful neighborhood of Queen ...</td>\n",
       "      <td>...</td>\n",
       "      <td>9.0</td>\n",
       "      <td>f</td>\n",
       "      <td>NaN</td>\n",
       "      <td>WASHINGTON</td>\n",
       "      <td>f</td>\n",
       "      <td>strict</td>\n",
       "      <td>f</td>\n",
       "      <td>f</td>\n",
       "      <td>1</td>\n",
       "      <td>0.89</td>\n",
       "    </tr>\n",
       "  </tbody>\n",
       "</table>\n",
       "<p>5 rows × 92 columns</p>\n",
       "</div>"
      ],
      "text/plain": [
       "        id                           listing_url       scrape_id last_scraped  \\\n",
       "0   241032   https://www.airbnb.com/rooms/241032  20160104002432   2016-01-04   \n",
       "1   953595   https://www.airbnb.com/rooms/953595  20160104002432   2016-01-04   \n",
       "2  3308979  https://www.airbnb.com/rooms/3308979  20160104002432   2016-01-04   \n",
       "3  7421966  https://www.airbnb.com/rooms/7421966  20160104002432   2016-01-04   \n",
       "4   278830   https://www.airbnb.com/rooms/278830  20160104002432   2016-01-04   \n",
       "\n",
       "                                  name  \\\n",
       "0         Stylish Queen Anne Apartment   \n",
       "1   Bright & Airy Queen Anne Apartment   \n",
       "2  New Modern House-Amazing water view   \n",
       "3                   Queen Anne Chateau   \n",
       "4       Charming craftsman 3 bdm house   \n",
       "\n",
       "                                             summary  \\\n",
       "0                                                NaN   \n",
       "1  Chemically sensitive? We've removed the irrita...   \n",
       "2  New modern house built in 2013.  Spectacular s...   \n",
       "3  A charming apartment that sits atop Queen Anne...   \n",
       "4  Cozy family craftman house in beautiful neighb...   \n",
       "\n",
       "                                               space  \\\n",
       "0  Make your self at home in this charming one-be...   \n",
       "1  Beautiful, hypoallergenic apartment in an extr...   \n",
       "2  Our house is modern, light and fresh with a wa...   \n",
       "3                                                NaN   \n",
       "4  Cozy family craftman house in beautiful neighb...   \n",
       "\n",
       "                                         description experiences_offered  \\\n",
       "0  Make your self at home in this charming one-be...                none   \n",
       "1  Chemically sensitive? We've removed the irrita...                none   \n",
       "2  New modern house built in 2013.  Spectacular s...                none   \n",
       "3  A charming apartment that sits atop Queen Anne...                none   \n",
       "4  Cozy family craftman house in beautiful neighb...                none   \n",
       "\n",
       "                               neighborhood_overview        ...         \\\n",
       "0                                                NaN        ...          \n",
       "1  Queen Anne is a wonderful, truly functional vi...        ...          \n",
       "2  Upper Queen Anne is a charming neighborhood fu...        ...          \n",
       "3                                                NaN        ...          \n",
       "4  We are in the beautiful neighborhood of Queen ...        ...          \n",
       "\n",
       "  review_scores_value requires_license license jurisdiction_names  \\\n",
       "0                10.0                f     NaN         WASHINGTON   \n",
       "1                10.0                f     NaN         WASHINGTON   \n",
       "2                10.0                f     NaN         WASHINGTON   \n",
       "3                 NaN                f     NaN         WASHINGTON   \n",
       "4                 9.0                f     NaN         WASHINGTON   \n",
       "\n",
       "  instant_bookable cancellation_policy  require_guest_profile_picture  \\\n",
       "0                f            moderate                              f   \n",
       "1                f              strict                              t   \n",
       "2                f              strict                              f   \n",
       "3                f            flexible                              f   \n",
       "4                f              strict                              f   \n",
       "\n",
       "  require_guest_phone_verification calculated_host_listings_count  \\\n",
       "0                                f                              2   \n",
       "1                                t                              6   \n",
       "2                                f                              2   \n",
       "3                                f                              1   \n",
       "4                                f                              1   \n",
       "\n",
       "  reviews_per_month  \n",
       "0              4.07  \n",
       "1              1.48  \n",
       "2              1.15  \n",
       "3               NaN  \n",
       "4              0.89  \n",
       "\n",
       "[5 rows x 92 columns]"
      ]
     },
     "execution_count": 6,
     "metadata": {},
     "output_type": "execute_result"
    }
   ],
   "source": [
    "# load listings data set and display head\n",
    "df_listings = pd.read_csv('./listings.csv')\n",
    "df_listings.head()"
   ]
  },
  {
   "cell_type": "code",
   "execution_count": 7,
   "metadata": {},
   "outputs": [
    {
     "data": {
      "text/plain": [
       "'listings dataframe: Number of rows: 3818, Number of colunms: 92'"
      ]
     },
     "execution_count": 7,
     "metadata": {},
     "output_type": "execute_result"
    }
   ],
   "source": [
    "# shape of listings data set\n",
    "\"listings dataframe: Number of rows: \"+str(df_listings.shape[0]) +\", Number of colunms: \"+ str(df_listings.shape[1])"
   ]
  },
  {
   "cell_type": "code",
   "execution_count": 8,
   "metadata": {},
   "outputs": [
    {
     "name": "stdout",
     "output_type": "stream",
     "text": [
      "<class 'pandas.core.frame.DataFrame'>\n",
      "RangeIndex: 3818 entries, 0 to 3817\n",
      "Data columns (total 92 columns):\n",
      "id                                  3818 non-null int64\n",
      "listing_url                         3818 non-null object\n",
      "scrape_id                           3818 non-null int64\n",
      "last_scraped                        3818 non-null object\n",
      "name                                3818 non-null object\n",
      "summary                             3641 non-null object\n",
      "space                               3249 non-null object\n",
      "description                         3818 non-null object\n",
      "experiences_offered                 3818 non-null object\n",
      "neighborhood_overview               2786 non-null object\n",
      "notes                               2212 non-null object\n",
      "transit                             2884 non-null object\n",
      "thumbnail_url                       3498 non-null object\n",
      "medium_url                          3498 non-null object\n",
      "picture_url                         3818 non-null object\n",
      "xl_picture_url                      3498 non-null object\n",
      "host_id                             3818 non-null int64\n",
      "host_url                            3818 non-null object\n",
      "host_name                           3816 non-null object\n",
      "host_since                          3816 non-null object\n",
      "host_location                       3810 non-null object\n",
      "host_about                          2959 non-null object\n",
      "host_response_time                  3295 non-null object\n",
      "host_response_rate                  3295 non-null object\n",
      "host_acceptance_rate                3045 non-null object\n",
      "host_is_superhost                   3816 non-null object\n",
      "host_thumbnail_url                  3816 non-null object\n",
      "host_picture_url                    3816 non-null object\n",
      "host_neighbourhood                  3518 non-null object\n",
      "host_listings_count                 3816 non-null float64\n",
      "host_total_listings_count           3816 non-null float64\n",
      "host_verifications                  3818 non-null object\n",
      "host_has_profile_pic                3816 non-null object\n",
      "host_identity_verified              3816 non-null object\n",
      "street                              3818 non-null object\n",
      "neighbourhood                       3402 non-null object\n",
      "neighbourhood_cleansed              3818 non-null object\n",
      "neighbourhood_group_cleansed        3818 non-null object\n",
      "city                                3818 non-null object\n",
      "state                               3818 non-null object\n",
      "zipcode                             3811 non-null object\n",
      "market                              3818 non-null object\n",
      "smart_location                      3818 non-null object\n",
      "country_code                        3818 non-null object\n",
      "country                             3818 non-null object\n",
      "latitude                            3818 non-null float64\n",
      "longitude                           3818 non-null float64\n",
      "is_location_exact                   3818 non-null object\n",
      "property_type                       3817 non-null object\n",
      "room_type                           3818 non-null object\n",
      "accommodates                        3818 non-null int64\n",
      "bathrooms                           3802 non-null float64\n",
      "bedrooms                            3812 non-null float64\n",
      "beds                                3817 non-null float64\n",
      "bed_type                            3818 non-null object\n",
      "amenities                           3818 non-null object\n",
      "square_feet                         97 non-null float64\n",
      "price                               3818 non-null object\n",
      "weekly_price                        2009 non-null object\n",
      "monthly_price                       1517 non-null object\n",
      "security_deposit                    1866 non-null object\n",
      "cleaning_fee                        2788 non-null object\n",
      "guests_included                     3818 non-null int64\n",
      "extra_people                        3818 non-null object\n",
      "minimum_nights                      3818 non-null int64\n",
      "maximum_nights                      3818 non-null int64\n",
      "calendar_updated                    3818 non-null object\n",
      "has_availability                    3818 non-null object\n",
      "availability_30                     3818 non-null int64\n",
      "availability_60                     3818 non-null int64\n",
      "availability_90                     3818 non-null int64\n",
      "availability_365                    3818 non-null int64\n",
      "calendar_last_scraped               3818 non-null object\n",
      "number_of_reviews                   3818 non-null int64\n",
      "first_review                        3191 non-null object\n",
      "last_review                         3191 non-null object\n",
      "review_scores_rating                3171 non-null float64\n",
      "review_scores_accuracy              3160 non-null float64\n",
      "review_scores_cleanliness           3165 non-null float64\n",
      "review_scores_checkin               3160 non-null float64\n",
      "review_scores_communication         3167 non-null float64\n",
      "review_scores_location              3163 non-null float64\n",
      "review_scores_value                 3162 non-null float64\n",
      "requires_license                    3818 non-null object\n",
      "license                             0 non-null float64\n",
      "jurisdiction_names                  3818 non-null object\n",
      "instant_bookable                    3818 non-null object\n",
      "cancellation_policy                 3818 non-null object\n",
      "require_guest_profile_picture       3818 non-null object\n",
      "require_guest_phone_verification    3818 non-null object\n",
      "calculated_host_listings_count      3818 non-null int64\n",
      "reviews_per_month                   3191 non-null float64\n",
      "dtypes: float64(17), int64(13), object(62)\n",
      "memory usage: 2.7+ MB\n"
     ]
    }
   ],
   "source": [
    "#get data set info : columns, number of valuesm and data types\n",
    "df_listings.info()"
   ]
  },
  {
   "cell_type": "code",
   "execution_count": 9,
   "metadata": {},
   "outputs": [
    {
     "data": {
      "text/plain": [
       "Index(['id', 'listing_url', 'scrape_id', 'last_scraped', 'name', 'summary',\n",
       "       'space', 'description', 'experiences_offered', 'neighborhood_overview',\n",
       "       'notes', 'transit', 'thumbnail_url', 'medium_url', 'picture_url',\n",
       "       'xl_picture_url', 'host_id', 'host_url', 'host_name', 'host_since',\n",
       "       'host_location', 'host_about', 'host_response_time',\n",
       "       'host_response_rate', 'host_acceptance_rate', 'host_is_superhost',\n",
       "       'host_thumbnail_url', 'host_picture_url', 'host_neighbourhood',\n",
       "       'host_listings_count', 'host_total_listings_count',\n",
       "       'host_verifications', 'host_has_profile_pic', 'host_identity_verified',\n",
       "       'street', 'neighbourhood', 'neighbourhood_cleansed',\n",
       "       'neighbourhood_group_cleansed', 'city', 'state', 'zipcode', 'market',\n",
       "       'smart_location', 'country_code', 'country', 'latitude', 'longitude',\n",
       "       'is_location_exact', 'property_type', 'room_type', 'accommodates',\n",
       "       'bathrooms', 'bedrooms', 'beds', 'bed_type', 'amenities', 'square_feet',\n",
       "       'price', 'weekly_price', 'monthly_price', 'security_deposit',\n",
       "       'cleaning_fee', 'guests_included', 'extra_people', 'minimum_nights',\n",
       "       'maximum_nights', 'calendar_updated', 'has_availability',\n",
       "       'availability_30', 'availability_60', 'availability_90',\n",
       "       'availability_365', 'calendar_last_scraped', 'number_of_reviews',\n",
       "       'first_review', 'last_review', 'review_scores_rating',\n",
       "       'review_scores_accuracy', 'review_scores_cleanliness',\n",
       "       'review_scores_checkin', 'review_scores_communication',\n",
       "       'review_scores_location', 'review_scores_value', 'requires_license',\n",
       "       'license', 'jurisdiction_names', 'instant_bookable',\n",
       "       'cancellation_policy', 'require_guest_profile_picture',\n",
       "       'require_guest_phone_verification', 'calculated_host_listings_count',\n",
       "       'reviews_per_month'],\n",
       "      dtype='object')"
      ]
     },
     "execution_count": 9,
     "metadata": {},
     "output_type": "execute_result"
    }
   ],
   "source": [
    "# check the columns in the listings dataset\n",
    "df_listings.columns"
   ]
  },
  {
   "cell_type": "markdown",
   "metadata": {},
   "source": [
    "* Listings dataset includes information about an AirBnB listing in Seattle , and their onwers and the different prices and fees associated with it."
   ]
  },
  {
   "cell_type": "markdown",
   "metadata": {},
   "source": [
    "### 1. What is the best time to visit Seattle (peak seasons, listings prices)?\n",
    "\n",
    "To answer this question were are going to use the calendar data set."
   ]
  },
  {
   "cell_type": "code",
   "execution_count": 14,
   "metadata": {},
   "outputs": [
    {
     "data": {
      "text/plain": [
       "(Index(['listing_id', 'date', 'available', 'price'], dtype='object'), 4)"
      ]
     },
     "execution_count": 14,
     "metadata": {},
     "output_type": "execute_result"
    }
   ],
   "source": [
    "# getting the columns names and numbers of calender data set\n",
    "df_calendar.columns, len(df_calendar.columns)"
   ]
  },
  {
   "cell_type": "code",
   "execution_count": 15,
   "metadata": {},
   "outputs": [
    {
     "name": "stdout",
     "output_type": "stream",
     "text": [
      "<class 'pandas.core.frame.DataFrame'>\n",
      "RangeIndex: 1393570 entries, 0 to 1393569\n",
      "Data columns (total 4 columns):\n",
      "listing_id    1393570 non-null int64\n",
      "date          1393570 non-null object\n",
      "available     1393570 non-null object\n",
      "price         934542 non-null object\n",
      "dtypes: int64(1), object(3)\n",
      "memory usage: 42.5+ MB\n"
     ]
    }
   ],
   "source": [
    "#get data set info : columns, number of valuesm and data types\n",
    "df_calendar.info()"
   ]
  },
  {
   "cell_type": "markdown",
   "metadata": {},
   "source": [
    "#### 3. Data preparation\n",
    "Before using the dataset to answer the first question, their are some data preparation steps that are needed to be done.\n",
    "\n",
    "- As you can see from the cell above that we will clean the price column values by converting its values from string to float."
   ]
  },
  {
   "cell_type": "code",
   "execution_count": 16,
   "metadata": {},
   "outputs": [
    {
     "data": {
      "text/html": [
       "<div>\n",
       "<style scoped>\n",
       "    .dataframe tbody tr th:only-of-type {\n",
       "        vertical-align: middle;\n",
       "    }\n",
       "\n",
       "    .dataframe tbody tr th {\n",
       "        vertical-align: top;\n",
       "    }\n",
       "\n",
       "    .dataframe thead th {\n",
       "        text-align: right;\n",
       "    }\n",
       "</style>\n",
       "<table border=\"1\" class=\"dataframe\">\n",
       "  <thead>\n",
       "    <tr style=\"text-align: right;\">\n",
       "      <th></th>\n",
       "      <th>listing_id</th>\n",
       "      <th>date</th>\n",
       "      <th>available</th>\n",
       "      <th>price</th>\n",
       "    </tr>\n",
       "  </thead>\n",
       "  <tbody>\n",
       "    <tr>\n",
       "      <th>0</th>\n",
       "      <td>241032</td>\n",
       "      <td>2016-01-04</td>\n",
       "      <td>t</td>\n",
       "      <td>85.0</td>\n",
       "    </tr>\n",
       "    <tr>\n",
       "      <th>1</th>\n",
       "      <td>241032</td>\n",
       "      <td>2016-01-05</td>\n",
       "      <td>t</td>\n",
       "      <td>85.0</td>\n",
       "    </tr>\n",
       "    <tr>\n",
       "      <th>2</th>\n",
       "      <td>241032</td>\n",
       "      <td>2016-01-06</td>\n",
       "      <td>f</td>\n",
       "      <td>NaN</td>\n",
       "    </tr>\n",
       "    <tr>\n",
       "      <th>3</th>\n",
       "      <td>241032</td>\n",
       "      <td>2016-01-07</td>\n",
       "      <td>f</td>\n",
       "      <td>NaN</td>\n",
       "    </tr>\n",
       "    <tr>\n",
       "      <th>4</th>\n",
       "      <td>241032</td>\n",
       "      <td>2016-01-08</td>\n",
       "      <td>f</td>\n",
       "      <td>NaN</td>\n",
       "    </tr>\n",
       "  </tbody>\n",
       "</table>\n",
       "</div>"
      ],
      "text/plain": [
       "   listing_id        date available  price\n",
       "0      241032  2016-01-04         t   85.0\n",
       "1      241032  2016-01-05         t   85.0\n",
       "2      241032  2016-01-06         f    NaN\n",
       "3      241032  2016-01-07         f    NaN\n",
       "4      241032  2016-01-08         f    NaN"
      ]
     },
     "execution_count": 16,
     "metadata": {},
     "output_type": "execute_result"
    }
   ],
   "source": [
    "# Clean the price column that has values with \"$\" and \",\" \n",
    "df_calendar[\"price\"] = df_calendar.apply(lambda x: float(x['price'].replace('$', '').replace(',', '')) if( pd.notna(x['price'])) else x['price'] ,axis=1)\n",
    "df_calendar.head()\n"
   ]
  },
  {
   "cell_type": "markdown",
   "metadata": {},
   "source": [
    "- Also we will need to extract month week_day columns  from the date in order to calculate the listing average price in on a month and day of the week bases "
   ]
  },
  {
   "cell_type": "code",
   "execution_count": 17,
   "metadata": {},
   "outputs": [
    {
     "data": {
      "text/html": [
       "<div>\n",
       "<style scoped>\n",
       "    .dataframe tbody tr th:only-of-type {\n",
       "        vertical-align: middle;\n",
       "    }\n",
       "\n",
       "    .dataframe tbody tr th {\n",
       "        vertical-align: top;\n",
       "    }\n",
       "\n",
       "    .dataframe thead th {\n",
       "        text-align: right;\n",
       "    }\n",
       "</style>\n",
       "<table border=\"1\" class=\"dataframe\">\n",
       "  <thead>\n",
       "    <tr style=\"text-align: right;\">\n",
       "      <th></th>\n",
       "      <th>listing_id</th>\n",
       "      <th>date</th>\n",
       "      <th>available</th>\n",
       "      <th>price</th>\n",
       "      <th>month</th>\n",
       "    </tr>\n",
       "  </thead>\n",
       "  <tbody>\n",
       "    <tr>\n",
       "      <th>0</th>\n",
       "      <td>241032</td>\n",
       "      <td>2016-01-04</td>\n",
       "      <td>t</td>\n",
       "      <td>85.0</td>\n",
       "      <td>1</td>\n",
       "    </tr>\n",
       "    <tr>\n",
       "      <th>1</th>\n",
       "      <td>241032</td>\n",
       "      <td>2016-01-05</td>\n",
       "      <td>t</td>\n",
       "      <td>85.0</td>\n",
       "      <td>1</td>\n",
       "    </tr>\n",
       "    <tr>\n",
       "      <th>2</th>\n",
       "      <td>241032</td>\n",
       "      <td>2016-01-06</td>\n",
       "      <td>f</td>\n",
       "      <td>NaN</td>\n",
       "      <td>1</td>\n",
       "    </tr>\n",
       "    <tr>\n",
       "      <th>3</th>\n",
       "      <td>241032</td>\n",
       "      <td>2016-01-07</td>\n",
       "      <td>f</td>\n",
       "      <td>NaN</td>\n",
       "      <td>1</td>\n",
       "    </tr>\n",
       "    <tr>\n",
       "      <th>4</th>\n",
       "      <td>241032</td>\n",
       "      <td>2016-01-08</td>\n",
       "      <td>f</td>\n",
       "      <td>NaN</td>\n",
       "      <td>1</td>\n",
       "    </tr>\n",
       "  </tbody>\n",
       "</table>\n",
       "</div>"
      ],
      "text/plain": [
       "   listing_id        date available  price  month\n",
       "0      241032  2016-01-04         t   85.0      1\n",
       "1      241032  2016-01-05         t   85.0      1\n",
       "2      241032  2016-01-06         f    NaN      1\n",
       "3      241032  2016-01-07         f    NaN      1\n",
       "4      241032  2016-01-08         f    NaN      1"
      ]
     },
     "execution_count": 17,
     "metadata": {},
     "output_type": "execute_result"
    }
   ],
   "source": [
    "# add month column extracted from date column\n",
    "df_calendar[\"month\"] = pd.DatetimeIndex(df_calendar['date']).month\n",
    "df_calendar.head()"
   ]
  },
  {
   "cell_type": "code",
   "execution_count": 18,
   "metadata": {},
   "outputs": [
    {
     "data": {
      "text/html": [
       "<div>\n",
       "<style scoped>\n",
       "    .dataframe tbody tr th:only-of-type {\n",
       "        vertical-align: middle;\n",
       "    }\n",
       "\n",
       "    .dataframe tbody tr th {\n",
       "        vertical-align: top;\n",
       "    }\n",
       "\n",
       "    .dataframe thead th {\n",
       "        text-align: right;\n",
       "    }\n",
       "</style>\n",
       "<table border=\"1\" class=\"dataframe\">\n",
       "  <thead>\n",
       "    <tr style=\"text-align: right;\">\n",
       "      <th></th>\n",
       "      <th>listing_id</th>\n",
       "      <th>date</th>\n",
       "      <th>available</th>\n",
       "      <th>price</th>\n",
       "      <th>month</th>\n",
       "      <th>week_day</th>\n",
       "    </tr>\n",
       "  </thead>\n",
       "  <tbody>\n",
       "    <tr>\n",
       "      <th>0</th>\n",
       "      <td>241032</td>\n",
       "      <td>2016-01-04</td>\n",
       "      <td>t</td>\n",
       "      <td>85.0</td>\n",
       "      <td>1</td>\n",
       "      <td>Monday</td>\n",
       "    </tr>\n",
       "    <tr>\n",
       "      <th>1</th>\n",
       "      <td>241032</td>\n",
       "      <td>2016-01-05</td>\n",
       "      <td>t</td>\n",
       "      <td>85.0</td>\n",
       "      <td>1</td>\n",
       "      <td>Tuesday</td>\n",
       "    </tr>\n",
       "    <tr>\n",
       "      <th>2</th>\n",
       "      <td>241032</td>\n",
       "      <td>2016-01-06</td>\n",
       "      <td>f</td>\n",
       "      <td>NaN</td>\n",
       "      <td>1</td>\n",
       "      <td>Wednesday</td>\n",
       "    </tr>\n",
       "    <tr>\n",
       "      <th>3</th>\n",
       "      <td>241032</td>\n",
       "      <td>2016-01-07</td>\n",
       "      <td>f</td>\n",
       "      <td>NaN</td>\n",
       "      <td>1</td>\n",
       "      <td>Thursday</td>\n",
       "    </tr>\n",
       "    <tr>\n",
       "      <th>4</th>\n",
       "      <td>241032</td>\n",
       "      <td>2016-01-08</td>\n",
       "      <td>f</td>\n",
       "      <td>NaN</td>\n",
       "      <td>1</td>\n",
       "      <td>Friday</td>\n",
       "    </tr>\n",
       "  </tbody>\n",
       "</table>\n",
       "</div>"
      ],
      "text/plain": [
       "   listing_id        date available  price  month   week_day\n",
       "0      241032  2016-01-04         t   85.0      1     Monday\n",
       "1      241032  2016-01-05         t   85.0      1    Tuesday\n",
       "2      241032  2016-01-06         f    NaN      1  Wednesday\n",
       "3      241032  2016-01-07         f    NaN      1   Thursday\n",
       "4      241032  2016-01-08         f    NaN      1     Friday"
      ]
     },
     "execution_count": 18,
     "metadata": {},
     "output_type": "execute_result"
    }
   ],
   "source": [
    "# add week_day column extracted from date column\n",
    "df_calendar['week_day'] = pd.DatetimeIndex(df_calendar['date']).day_name()\n",
    "\n",
    "df_calendar.head()"
   ]
  },
  {
   "cell_type": "code",
   "execution_count": 19,
   "metadata": {},
   "outputs": [
    {
     "data": {
      "text/html": [
       "<div>\n",
       "<style scoped>\n",
       "    .dataframe tbody tr th:only-of-type {\n",
       "        vertical-align: middle;\n",
       "    }\n",
       "\n",
       "    .dataframe tbody tr th {\n",
       "        vertical-align: top;\n",
       "    }\n",
       "\n",
       "    .dataframe thead th {\n",
       "        text-align: right;\n",
       "    }\n",
       "</style>\n",
       "<table border=\"1\" class=\"dataframe\">\n",
       "  <thead>\n",
       "    <tr style=\"text-align: right;\">\n",
       "      <th></th>\n",
       "      <th>listing_id</th>\n",
       "      <th>date</th>\n",
       "      <th>available</th>\n",
       "      <th>price</th>\n",
       "      <th>month</th>\n",
       "      <th>week_day</th>\n",
       "    </tr>\n",
       "  </thead>\n",
       "  <tbody>\n",
       "    <tr>\n",
       "      <th>0</th>\n",
       "      <td>241032</td>\n",
       "      <td>2016-01-04</td>\n",
       "      <td>t</td>\n",
       "      <td>85.0</td>\n",
       "      <td>1</td>\n",
       "      <td>Monday</td>\n",
       "    </tr>\n",
       "    <tr>\n",
       "      <th>1</th>\n",
       "      <td>241032</td>\n",
       "      <td>2016-01-05</td>\n",
       "      <td>t</td>\n",
       "      <td>85.0</td>\n",
       "      <td>1</td>\n",
       "      <td>Tuesday</td>\n",
       "    </tr>\n",
       "    <tr>\n",
       "      <th>9</th>\n",
       "      <td>241032</td>\n",
       "      <td>2016-01-13</td>\n",
       "      <td>t</td>\n",
       "      <td>85.0</td>\n",
       "      <td>1</td>\n",
       "      <td>Wednesday</td>\n",
       "    </tr>\n",
       "    <tr>\n",
       "      <th>10</th>\n",
       "      <td>241032</td>\n",
       "      <td>2016-01-14</td>\n",
       "      <td>t</td>\n",
       "      <td>85.0</td>\n",
       "      <td>1</td>\n",
       "      <td>Thursday</td>\n",
       "    </tr>\n",
       "    <tr>\n",
       "      <th>14</th>\n",
       "      <td>241032</td>\n",
       "      <td>2016-01-18</td>\n",
       "      <td>t</td>\n",
       "      <td>85.0</td>\n",
       "      <td>1</td>\n",
       "      <td>Monday</td>\n",
       "    </tr>\n",
       "  </tbody>\n",
       "</table>\n",
       "</div>"
      ],
      "text/plain": [
       "    listing_id        date available  price  month   week_day\n",
       "0       241032  2016-01-04         t   85.0      1     Monday\n",
       "1       241032  2016-01-05         t   85.0      1    Tuesday\n",
       "9       241032  2016-01-13         t   85.0      1  Wednesday\n",
       "10      241032  2016-01-14         t   85.0      1   Thursday\n",
       "14      241032  2016-01-18         t   85.0      1     Monday"
      ]
     },
     "execution_count": 19,
     "metadata": {},
     "output_type": "execute_result"
    }
   ],
   "source": [
    "# get only avalibale listings to do the analysis on\n",
    "df_calendar_available =  df_calendar[df_calendar.available == 't']\n",
    "df_calendar_available.head()"
   ]
  },
  {
   "cell_type": "code",
   "execution_count": 20,
   "metadata": {},
   "outputs": [
    {
     "name": "stdout",
     "output_type": "stream",
     "text": [
      "<class 'pandas.core.frame.DataFrame'>\n",
      "Int64Index: 934542 entries, 0 to 1393213\n",
      "Data columns (total 6 columns):\n",
      "listing_id    934542 non-null int64\n",
      "date          934542 non-null object\n",
      "available     934542 non-null object\n",
      "price         934542 non-null float64\n",
      "month         934542 non-null int64\n",
      "week_day      934542 non-null object\n",
      "dtypes: float64(1), int64(2), object(3)\n",
      "memory usage: 49.9+ MB\n"
     ]
    }
   ],
   "source": [
    "#get data set info : columns, number of valuesm and data types\n",
    "df_calendar_available.info()"
   ]
  },
  {
   "cell_type": "markdown",
   "metadata": {},
   "source": [
    "#### 3. Data Modeling (Analysis)\n",
    "\n",
    "Here we try to answer our question from the prepared data:\n",
    "\n",
    "1. What is the best time to visit seattle (peak seasons, listings prices)?\n",
    "\n",
    "First, we will take a look at the distrbution of Seattle AirBnB listings prices' averge over the days of the week:"
   ]
  },
  {
   "cell_type": "code",
   "execution_count": 21,
   "metadata": {},
   "outputs": [
    {
     "data": {
      "text/plain": [
       "week_day\n",
       "Friday       143.036294\n",
       "Monday       135.676414\n",
       "Saturday     143.202136\n",
       "Sunday       136.459941\n",
       "Thursday     136.476032\n",
       "Tuesday      135.408764\n",
       "Wednesday    135.447880\n",
       "Name: price, dtype: float64"
      ]
     },
     "execution_count": 21,
     "metadata": {},
     "output_type": "execute_result"
    }
   ],
   "source": [
    "# getting average of available AirBnB liating on day of the week bases\n",
    "listing_price_by_week_day = df_calendar_available.groupby('week_day').price.mean()\n",
    "listing_price_by_week_day"
   ]
  },
  {
   "cell_type": "code",
   "execution_count": 22,
   "metadata": {},
   "outputs": [
    {
     "data": {
      "image/png": "[encoded data removed]",
      "text/plain": [
       "<Figure size 1080x504 with 1 Axes>"
      ]
     },
     "metadata": {
      "needs_background": "light"
     },
     "output_type": "display_data"
    }
   ],
   "source": [
    "#set the figure size\n",
    "plt.figure(figsize=(15,7))\n",
    "\n",
    "# plot the barplot of listing_price_by_week_day means\n",
    "plot = sb.barplot(x = listing_price_by_week_day.index, y =listing_price_by_week_day, color = base_color);\n",
    "\n",
    "#set title and labels of plot\n",
    "plt.xlabel('Week Day', fontweight='bold')\n",
    "plt.ylabel('Listing Price', fontweight='bold')\n",
    "plt.title('Seattle AirBnB Listings Average Prices by Week day', fontweight='bold' )\n",
    "\n",
    "#set bar values in plot\n",
    "for p in plot.patches:\n",
    "        plot.annotate('{:.0f}'.format(p.get_height()), (p.get_x()+0.4, p.get_height()),\n",
    "                    ha='center', va='bottom',\n",
    "                    color= 'black');"
   ]
  },
  {
   "cell_type": "markdown",
   "metadata": {},
   "source": [
    "Then, we will take a look at the distribution of Seattle AirBnB listings prices averge over the months:"
   ]
  },
  {
   "cell_type": "code",
   "execution_count": 23,
   "metadata": {},
   "outputs": [
    {
     "data": {
      "text/plain": [
       "month\n",
       "1     122.912176\n",
       "2     124.293927\n",
       "3     128.644488\n",
       "4     135.097005\n",
       "5     139.538183\n",
       "6     147.473137\n",
       "7     152.094150\n",
       "8     150.656594\n",
       "9     143.255949\n",
       "10    137.031939\n",
       "11    135.688738\n",
       "12    137.251835\n",
       "Name: price, dtype: float64"
      ]
     },
     "execution_count": 23,
     "metadata": {},
     "output_type": "execute_result"
    }
   ],
   "source": [
    "listing_price_by_month = df_calendar_available.groupby('month').price.mean()\n",
    "listing_price_by_month"
   ]
  },
  {
   "cell_type": "code",
   "execution_count": 24,
   "metadata": {},
   "outputs": [
    {
     "data": {
      "image/png": "[encoded data removed]",
      "text/plain": [
       "<Figure size 1080x504 with 1 Axes>"
      ]
     },
     "metadata": {
      "needs_background": "light"
     },
     "output_type": "display_data"
    }
   ],
   "source": [
    "#set the figure size\n",
    "plt.figure(figsize=(15,7))\n",
    "\n",
    "# set axes like labels vlaues thet will be used in plots\n",
    "months = ['January', 'February', 'March', 'April', 'May', 'June', 'July', 'August', 'September', 'October', 'November', 'December']\n",
    "\n",
    "\n",
    "# plot the barplot of listing_price_by_month means\n",
    "plot = sb.barplot(x = listing_price_by_month.index, y =listing_price_by_month, color = base_color);\n",
    "\n",
    "#set xticklabels, title and labels of plot\n",
    "plt.xlabel('Month', fontweight='bold')\n",
    "plt.ylabel('Listing Price', fontweight='bold')\n",
    "plt.title('Seattle AirBnB Listings Average Prices by Month', fontweight='bold')\n",
    "plot.set_xticklabels(months);\n",
    "\n",
    "#set bar values in plot\n",
    "for p in plot.patches:\n",
    "        plot.annotate('{:.0f}'.format(p.get_height()), (p.get_x()+0.4, p.get_height()),\n",
    "                    ha='center', va='bottom',\n",
    "                    color= 'black');"
   ]
  },
  {
   "cell_type": "markdown",
   "metadata": {},
   "source": [
    "After that, we will take a look at the distribution of Seattle AirBnB listings counts over the months :"
   ]
  },
  {
   "cell_type": "code",
   "execution_count": 25,
   "metadata": {},
   "outputs": [
    {
     "data": {
      "text/plain": [
       "month\n",
       "1     64937\n",
       "2     73321\n",
       "3     83938\n",
       "4     76037\n",
       "5     79971\n",
       "6     77244\n",
       "7     74222\n",
       "8     76347\n",
       "9     77246\n",
       "10    82438\n",
       "11    81780\n",
       "12    87061\n",
       "Name: listing_id, dtype: int64"
      ]
     },
     "execution_count": 25,
     "metadata": {},
     "output_type": "execute_result"
    }
   ],
   "source": [
    "booked_listings_counts_by_month = df_calendar_available.groupby('month').listing_id.count()\n",
    "booked_listings_counts_by_month"
   ]
  },
  {
   "cell_type": "code",
   "execution_count": 26,
   "metadata": {},
   "outputs": [
    {
     "data": {
      "image/png": "[encoded data removed]",
      "text/plain": [
       "<Figure size 1080x504 with 1 Axes>"
      ]
     },
     "metadata": {
      "needs_background": "light"
     },
     "output_type": "display_data"
    }
   ],
   "source": [
    "#set the figure size\n",
    "plt.figure(figsize=(15,7))\n",
    "\n",
    "# plot the barplot of booked_listings_counts_by_month counts\n",
    "plot = sb.barplot(x = booked_listings_counts_by_month.index, y =booked_listings_counts_by_month, color = base_color);\n",
    "\n",
    "#set xticklabels, title and labels of plot\n",
    "plt.xlabel('Month', fontweight='bold')\n",
    "plt.ylabel('Booked Listings', fontweight='bold') \n",
    "plt.title('Seattle AirBnB Booked Listings Counts by Month', fontweight='bold')\n",
    "plot.set_xticklabels(months)\n",
    "\n",
    "#set bar values in plot\n",
    "for p in plot.patches:\n",
    "        plot.annotate('{:.0f}'.format(p.get_height()), (p.get_x()+0.4, p.get_height()),\n",
    "                    ha='center', va='bottom',\n",
    "                    color= 'black');"
   ]
  },
  {
   "cell_type": "markdown",
   "metadata": {},
   "source": [
    "#### 5. Results\n",
    "\n",
    "From the above you can see that:\n",
    "\n",
    "- The prices of AirBnB listings in seatlle tend to incease over the weekends (Friday and Saterday nights).\n",
    "\n",
    "\n",
    "- The prices of AirBnB listings in seatlle seem to increase from the beginning of Summner (June) until the early Autumn (September) peaking at July. Also the seem to the prices seem to be at their lowest towards the beginning of the year January through March the will be a good option if you are looking to travel on a budget.\n",
    "\n",
    "\n",
    "- The number of listings availabilty seem to icrease four months of the year March October through December and peaking at December that means the you will have options to choose a listing will increase. The number of listings availabilty seem be at its lowest on January. \n"
   ]
  },
  {
   "cell_type": "markdown",
   "metadata": {},
   "source": [
    "### 2. What are the number of Airbnb listings in Seattle neighborhoods and the listings rate price?\n",
    "\n",
    "To answer this question were are going to use the listings data set.\n",
    "\n"
   ]
  },
  {
   "cell_type": "code",
   "execution_count": 27,
   "metadata": {
    "scrolled": true
   },
   "outputs": [
    {
     "data": {
      "text/plain": [
       "(Index(['id', 'listing_url', 'scrape_id', 'last_scraped', 'name', 'summary',\n",
       "        'space', 'description', 'experiences_offered', 'neighborhood_overview',\n",
       "        'notes', 'transit', 'thumbnail_url', 'medium_url', 'picture_url',\n",
       "        'xl_picture_url', 'host_id', 'host_url', 'host_name', 'host_since',\n",
       "        'host_location', 'host_about', 'host_response_time',\n",
       "        'host_response_rate', 'host_acceptance_rate', 'host_is_superhost',\n",
       "        'host_thumbnail_url', 'host_picture_url', 'host_neighbourhood',\n",
       "        'host_listings_count', 'host_total_listings_count',\n",
       "        'host_verifications', 'host_has_profile_pic', 'host_identity_verified',\n",
       "        'street', 'neighbourhood', 'neighbourhood_cleansed',\n",
       "        'neighbourhood_group_cleansed', 'city', 'state', 'zipcode', 'market',\n",
       "        'smart_location', 'country_code', 'country', 'latitude', 'longitude',\n",
       "        'is_location_exact', 'property_type', 'room_type', 'accommodates',\n",
       "        'bathrooms', 'bedrooms', 'beds', 'bed_type', 'amenities', 'square_feet',\n",
       "        'price', 'weekly_price', 'monthly_price', 'security_deposit',\n",
       "        'cleaning_fee', 'guests_included', 'extra_people', 'minimum_nights',\n",
       "        'maximum_nights', 'calendar_updated', 'has_availability',\n",
       "        'availability_30', 'availability_60', 'availability_90',\n",
       "        'availability_365', 'calendar_last_scraped', 'number_of_reviews',\n",
       "        'first_review', 'last_review', 'review_scores_rating',\n",
       "        'review_scores_accuracy', 'review_scores_cleanliness',\n",
       "        'review_scores_checkin', 'review_scores_communication',\n",
       "        'review_scores_location', 'review_scores_value', 'requires_license',\n",
       "        'license', 'jurisdiction_names', 'instant_bookable',\n",
       "        'cancellation_policy', 'require_guest_profile_picture',\n",
       "        'require_guest_phone_verification', 'calculated_host_listings_count',\n",
       "        'reviews_per_month'],\n",
       "       dtype='object'), 92)"
      ]
     },
     "execution_count": 27,
     "metadata": {},
     "output_type": "execute_result"
    }
   ],
   "source": [
    "# getting the columns names and numbers of listings data set\n",
    "df_listings.columns, len(df_listings.columns)"
   ]
  },
  {
   "cell_type": "markdown",
   "metadata": {},
   "source": [
    "#### 3. Data preparation\n",
    "Before using the dataset to answer the second question, their are some data preparation steps that are needed to be done.\n",
    "\n",
    "\n",
    "As you can see above that the listings data set has 92 column but to answer the second qestion we are going to foucs on only the following colunms: \n",
    "\n",
    "- neighbourhood\n",
    "- neighbourhood_cleansed\n",
    "- zipcode\n",
    "- price\n"
   ]
  },
  {
   "cell_type": "code",
   "execution_count": 28,
   "metadata": {},
   "outputs": [
    {
     "data": {
      "text/html": [
       "<div>\n",
       "<style scoped>\n",
       "    .dataframe tbody tr th:only-of-type {\n",
       "        vertical-align: middle;\n",
       "    }\n",
       "\n",
       "    .dataframe tbody tr th {\n",
       "        vertical-align: top;\n",
       "    }\n",
       "\n",
       "    .dataframe thead th {\n",
       "        text-align: right;\n",
       "    }\n",
       "</style>\n",
       "<table border=\"1\" class=\"dataframe\">\n",
       "  <thead>\n",
       "    <tr style=\"text-align: right;\">\n",
       "      <th></th>\n",
       "      <th>id</th>\n",
       "      <th>neighbourhood</th>\n",
       "      <th>neighbourhood_cleansed</th>\n",
       "      <th>zipcode</th>\n",
       "      <th>price</th>\n",
       "    </tr>\n",
       "  </thead>\n",
       "  <tbody>\n",
       "    <tr>\n",
       "      <th>0</th>\n",
       "      <td>241032</td>\n",
       "      <td>Queen Anne</td>\n",
       "      <td>West Queen Anne</td>\n",
       "      <td>98119</td>\n",
       "      <td>$85.00</td>\n",
       "    </tr>\n",
       "    <tr>\n",
       "      <th>1</th>\n",
       "      <td>953595</td>\n",
       "      <td>Queen Anne</td>\n",
       "      <td>West Queen Anne</td>\n",
       "      <td>98119</td>\n",
       "      <td>$150.00</td>\n",
       "    </tr>\n",
       "    <tr>\n",
       "      <th>2</th>\n",
       "      <td>3308979</td>\n",
       "      <td>Queen Anne</td>\n",
       "      <td>West Queen Anne</td>\n",
       "      <td>98119</td>\n",
       "      <td>$975.00</td>\n",
       "    </tr>\n",
       "    <tr>\n",
       "      <th>3</th>\n",
       "      <td>7421966</td>\n",
       "      <td>Queen Anne</td>\n",
       "      <td>West Queen Anne</td>\n",
       "      <td>98119</td>\n",
       "      <td>$100.00</td>\n",
       "    </tr>\n",
       "    <tr>\n",
       "      <th>4</th>\n",
       "      <td>278830</td>\n",
       "      <td>Queen Anne</td>\n",
       "      <td>West Queen Anne</td>\n",
       "      <td>98119</td>\n",
       "      <td>$450.00</td>\n",
       "    </tr>\n",
       "  </tbody>\n",
       "</table>\n",
       "</div>"
      ],
      "text/plain": [
       "        id neighbourhood neighbourhood_cleansed zipcode    price\n",
       "0   241032    Queen Anne        West Queen Anne   98119   $85.00\n",
       "1   953595    Queen Anne        West Queen Anne   98119  $150.00\n",
       "2  3308979    Queen Anne        West Queen Anne   98119  $975.00\n",
       "3  7421966    Queen Anne        West Queen Anne   98119  $100.00\n",
       "4   278830    Queen Anne        West Queen Anne   98119  $450.00"
      ]
     },
     "execution_count": 28,
     "metadata": {},
     "output_type": "execute_result"
    }
   ],
   "source": [
    "#set dataframe with only id, neighbourhood, neighbourhood_cleansed, zipcode, and price colunms from df_listings \n",
    "df_listings_with_neighborhoods = df_listings[ ['id','neighbourhood','neighbourhood_cleansed','zipcode','price']]\n",
    "df_listings_with_neighborhoods.head()\n"
   ]
  },
  {
   "cell_type": "code",
   "execution_count": 29,
   "metadata": {},
   "outputs": [
    {
     "name": "stdout",
     "output_type": "stream",
     "text": [
      "<class 'pandas.core.frame.DataFrame'>\n",
      "RangeIndex: 3818 entries, 0 to 3817\n",
      "Data columns (total 5 columns):\n",
      "id                        3818 non-null int64\n",
      "neighbourhood             3402 non-null object\n",
      "neighbourhood_cleansed    3818 non-null object\n",
      "zipcode                   3811 non-null object\n",
      "price                     3818 non-null object\n",
      "dtypes: int64(1), object(4)\n",
      "memory usage: 149.2+ KB\n"
     ]
    }
   ],
   "source": [
    "#get data set info : columns, number of valuesm and data types\n",
    "df_listings_with_neighborhoods.info()"
   ]
  },
  {
   "cell_type": "markdown",
   "metadata": {},
   "source": [
    "- As you can see from the cell above that neighbourhood and zipcode have some missing values, so we're going to drop them as neighbourhood_cleansed column will suffice since it has no missing values.\n",
    "\n",
    "- Also we will clean the price column values by converting its values from string to float. "
   ]
  },
  {
   "cell_type": "code",
   "execution_count": 30,
   "metadata": {},
   "outputs": [
    {
     "name": "stderr",
     "output_type": "stream",
     "text": [
      "/Users/NYRoomi/anaconda3/lib/python3.7/site-packages/pandas/core/frame.py:3697: SettingWithCopyWarning: \n",
      "A value is trying to be set on a copy of a slice from a DataFrame\n",
      "\n",
      "See the caveats in the documentation: http://pandas.pydata.org/pandas-docs/stable/indexing.html#indexing-view-versus-copy\n",
      "  errors=errors)\n"
     ]
    },
    {
     "data": {
      "text/html": [
       "<div>\n",
       "<style scoped>\n",
       "    .dataframe tbody tr th:only-of-type {\n",
       "        vertical-align: middle;\n",
       "    }\n",
       "\n",
       "    .dataframe tbody tr th {\n",
       "        vertical-align: top;\n",
       "    }\n",
       "\n",
       "    .dataframe thead th {\n",
       "        text-align: right;\n",
       "    }\n",
       "</style>\n",
       "<table border=\"1\" class=\"dataframe\">\n",
       "  <thead>\n",
       "    <tr style=\"text-align: right;\">\n",
       "      <th></th>\n",
       "      <th>id</th>\n",
       "      <th>neighbourhood_cleansed</th>\n",
       "      <th>price</th>\n",
       "    </tr>\n",
       "  </thead>\n",
       "  <tbody>\n",
       "    <tr>\n",
       "      <th>0</th>\n",
       "      <td>241032</td>\n",
       "      <td>West Queen Anne</td>\n",
       "      <td>$85.00</td>\n",
       "    </tr>\n",
       "    <tr>\n",
       "      <th>1</th>\n",
       "      <td>953595</td>\n",
       "      <td>West Queen Anne</td>\n",
       "      <td>$150.00</td>\n",
       "    </tr>\n",
       "    <tr>\n",
       "      <th>2</th>\n",
       "      <td>3308979</td>\n",
       "      <td>West Queen Anne</td>\n",
       "      <td>$975.00</td>\n",
       "    </tr>\n",
       "    <tr>\n",
       "      <th>3</th>\n",
       "      <td>7421966</td>\n",
       "      <td>West Queen Anne</td>\n",
       "      <td>$100.00</td>\n",
       "    </tr>\n",
       "    <tr>\n",
       "      <th>4</th>\n",
       "      <td>278830</td>\n",
       "      <td>West Queen Anne</td>\n",
       "      <td>$450.00</td>\n",
       "    </tr>\n",
       "  </tbody>\n",
       "</table>\n",
       "</div>"
      ],
      "text/plain": [
       "        id neighbourhood_cleansed    price\n",
       "0   241032        West Queen Anne   $85.00\n",
       "1   953595        West Queen Anne  $150.00\n",
       "2  3308979        West Queen Anne  $975.00\n",
       "3  7421966        West Queen Anne  $100.00\n",
       "4   278830        West Queen Anne  $450.00"
      ]
     },
     "execution_count": 30,
     "metadata": {},
     "output_type": "execute_result"
    }
   ],
   "source": [
    "#dropping heighborhood and zipcode columns\n",
    "df_listings_with_neighborhoods.drop(['neighbourhood', 'zipcode'],axis=1, inplace= True)\n",
    "df_listings_with_neighborhoods.head()"
   ]
  },
  {
   "cell_type": "code",
   "execution_count": 31,
   "metadata": {},
   "outputs": [
    {
     "name": "stderr",
     "output_type": "stream",
     "text": [
      "/Users/NYRoomi/anaconda3/lib/python3.7/site-packages/ipykernel_launcher.py:2: SettingWithCopyWarning: \n",
      "A value is trying to be set on a copy of a slice from a DataFrame.\n",
      "Try using .loc[row_indexer,col_indexer] = value instead\n",
      "\n",
      "See the caveats in the documentation: http://pandas.pydata.org/pandas-docs/stable/indexing.html#indexing-view-versus-copy\n",
      "  \n"
     ]
    },
    {
     "data": {
      "text/html": [
       "<div>\n",
       "<style scoped>\n",
       "    .dataframe tbody tr th:only-of-type {\n",
       "        vertical-align: middle;\n",
       "    }\n",
       "\n",
       "    .dataframe tbody tr th {\n",
       "        vertical-align: top;\n",
       "    }\n",
       "\n",
       "    .dataframe thead th {\n",
       "        text-align: right;\n",
       "    }\n",
       "</style>\n",
       "<table border=\"1\" class=\"dataframe\">\n",
       "  <thead>\n",
       "    <tr style=\"text-align: right;\">\n",
       "      <th></th>\n",
       "      <th>id</th>\n",
       "      <th>neighbourhood_cleansed</th>\n",
       "      <th>price</th>\n",
       "    </tr>\n",
       "  </thead>\n",
       "  <tbody>\n",
       "    <tr>\n",
       "      <th>0</th>\n",
       "      <td>241032</td>\n",
       "      <td>West Queen Anne</td>\n",
       "      <td>85.0</td>\n",
       "    </tr>\n",
       "    <tr>\n",
       "      <th>1</th>\n",
       "      <td>953595</td>\n",
       "      <td>West Queen Anne</td>\n",
       "      <td>150.0</td>\n",
       "    </tr>\n",
       "    <tr>\n",
       "      <th>2</th>\n",
       "      <td>3308979</td>\n",
       "      <td>West Queen Anne</td>\n",
       "      <td>975.0</td>\n",
       "    </tr>\n",
       "    <tr>\n",
       "      <th>3</th>\n",
       "      <td>7421966</td>\n",
       "      <td>West Queen Anne</td>\n",
       "      <td>100.0</td>\n",
       "    </tr>\n",
       "    <tr>\n",
       "      <th>4</th>\n",
       "      <td>278830</td>\n",
       "      <td>West Queen Anne</td>\n",
       "      <td>450.0</td>\n",
       "    </tr>\n",
       "  </tbody>\n",
       "</table>\n",
       "</div>"
      ],
      "text/plain": [
       "        id neighbourhood_cleansed  price\n",
       "0   241032        West Queen Anne   85.0\n",
       "1   953595        West Queen Anne  150.0\n",
       "2  3308979        West Queen Anne  975.0\n",
       "3  7421966        West Queen Anne  100.0\n",
       "4   278830        West Queen Anne  450.0"
      ]
     },
     "execution_count": 31,
     "metadata": {},
     "output_type": "execute_result"
    }
   ],
   "source": [
    "# Clean the price column that has values with \"$\" and \",\" \n",
    "df_listings_with_neighborhoods[\"price\"] = df_listings_with_neighborhoods.apply(lambda x: float(x['price'].replace('$', '').replace(',', '')) if( pd.notna(x['price'])) else x['price'] ,axis=1)\n",
    "df_listings_with_neighborhoods.head()\n"
   ]
  },
  {
   "cell_type": "markdown",
   "metadata": {},
   "source": [
    "\n",
    " In order to compare the neighborhoods prices and present analysis our results we need first calculate the:\n",
    " - counts of the neighborhood listings \n",
    " - average price of neighborhood listings "
   ]
  },
  {
   "cell_type": "code",
   "execution_count": 32,
   "metadata": {},
   "outputs": [
    {
     "data": {
      "text/plain": [
       "neighbourhood_cleansed\n",
       "Adams                        121.671429\n",
       "Alki                         171.619048\n",
       "Arbor Heights                126.800000\n",
       "Atlantic                     111.396226\n",
       "Belltown                     162.893162\n",
       "Bitter Lake                   83.000000\n",
       "Briarcliff                   176.571429\n",
       "Brighton                      91.230769\n",
       "Broadview                     94.705882\n",
       "Broadway                     123.889169\n",
       "Bryant                       114.896552\n",
       "Cedar Park                   114.625000\n",
       "Central Business District    164.213592\n",
       "Columbia City                 95.017241\n",
       "Crown Hill                    87.666667\n",
       "Dunlap                        88.300000\n",
       "East Queen Anne              159.414634\n",
       "Eastlake                     122.333333\n",
       "Fairmount Park               128.931034\n",
       "Fauntleroy                   164.100000\n",
       "First Hill                   136.425926\n",
       "Fremont                      129.056962\n",
       "Gatewood                     124.318182\n",
       "Genesee                      121.970588\n",
       "Georgetown                    76.125000\n",
       "Green Lake                   149.018519\n",
       "Greenwood                     98.820225\n",
       "Haller Lake                  103.400000\n",
       "Harrison/Denny-Blaine        114.928571\n",
       "High Point                   104.357143\n",
       "                                ...    \n",
       "Phinney Ridge                129.520548\n",
       "Pike-Market                  157.785714\n",
       "Pinehurst                    117.250000\n",
       "Pioneer Square               169.260870\n",
       "Portage Bay                  227.857143\n",
       "Rainier Beach                 68.555556\n",
       "Ravenna                       88.686567\n",
       "Riverview                     80.500000\n",
       "Roosevelt                    128.533333\n",
       "Roxhill                       92.500000\n",
       "Seaview                      118.166667\n",
       "Seward Park                  108.477273\n",
       "South Beacon Hill             83.250000\n",
       "South Delridge                74.666667\n",
       "South Lake Union             135.481481\n",
       "South Park                    90.000000\n",
       "Southeast Magnolia           231.705882\n",
       "Stevens                      133.210084\n",
       "Sunset Hill                  176.055556\n",
       "University District           93.639344\n",
       "Victory Heights               81.466667\n",
       "View Ridge                   139.000000\n",
       "Wallingford                  128.431138\n",
       "Wedgwood                     110.444444\n",
       "West Queen Anne              187.769231\n",
       "West Woodland                124.343750\n",
       "Westlake                     194.470588\n",
       "Whittier Heights             128.653846\n",
       "Windermere                   169.900000\n",
       "Yesler Terrace               116.235294\n",
       "Name: price, Length: 87, dtype: float64"
      ]
     },
     "execution_count": 32,
     "metadata": {},
     "output_type": "execute_result"
    }
   ],
   "source": [
    "# gettings means of the neighborhoods listings prices\n",
    "df_listings_with_neighborhoods_prices_means =df_listings_with_neighborhoods.groupby('neighbourhood_cleansed').price.mean()\n",
    "df_listings_with_neighborhoods_prices_means\n"
   ]
  },
  {
   "cell_type": "code",
   "execution_count": 33,
   "metadata": {},
   "outputs": [
    {
     "data": {
      "text/plain": [
       "neighbourhood_cleansed\n",
       "Adams                         70\n",
       "Alki                          42\n",
       "Arbor Heights                  5\n",
       "Atlantic                      53\n",
       "Belltown                     234\n",
       "Bitter Lake                   13\n",
       "Briarcliff                    14\n",
       "Brighton                      13\n",
       "Broadview                     17\n",
       "Broadway                     397\n",
       "Bryant                        29\n",
       "Cedar Park                     8\n",
       "Central Business District    103\n",
       "Columbia City                 58\n",
       "Crown Hill                    21\n",
       "Dunlap                        20\n",
       "East Queen Anne               82\n",
       "Eastlake                      45\n",
       "Fairmount Park                29\n",
       "Fauntleroy                    10\n",
       "First Hill                   108\n",
       "Fremont                      158\n",
       "Gatewood                      22\n",
       "Genesee                       34\n",
       "Georgetown                     8\n",
       "Green Lake                    54\n",
       "Greenwood                     89\n",
       "Haller Lake                   15\n",
       "Harrison/Denny-Blaine         14\n",
       "High Point                    14\n",
       "                            ... \n",
       "Phinney Ridge                 73\n",
       "Pike-Market                   28\n",
       "Pinehurst                      4\n",
       "Pioneer Square                23\n",
       "Portage Bay                   14\n",
       "Rainier Beach                 18\n",
       "Ravenna                       67\n",
       "Riverview                      8\n",
       "Roosevelt                     30\n",
       "Roxhill                        2\n",
       "Seaview                       12\n",
       "Seward Park                   44\n",
       "South Beacon Hill              4\n",
       "South Delridge                12\n",
       "South Lake Union              27\n",
       "South Park                     3\n",
       "Southeast Magnolia            17\n",
       "Stevens                      119\n",
       "Sunset Hill                   18\n",
       "University District          122\n",
       "Victory Heights               15\n",
       "View Ridge                     7\n",
       "Wallingford                  167\n",
       "Wedgwood                      18\n",
       "West Queen Anne               65\n",
       "West Woodland                 64\n",
       "Westlake                      17\n",
       "Whittier Heights              26\n",
       "Windermere                    10\n",
       "Yesler Terrace                17\n",
       "Name: id, Length: 87, dtype: int64"
      ]
     },
     "execution_count": 33,
     "metadata": {},
     "output_type": "execute_result"
    }
   ],
   "source": [
    "# gettings counts of the neighborhoods listings \n",
    "df_listings_with_neighborhoods_counts = df_listings_with_neighborhoods.groupby('neighbourhood_cleansed').id.count()\n",
    "df_listings_with_neighborhoods_counts\n"
   ]
  },
  {
   "cell_type": "code",
   "execution_count": 34,
   "metadata": {},
   "outputs": [
    {
     "data": {
      "text/html": [
       "<div>\n",
       "<style scoped>\n",
       "    .dataframe tbody tr th:only-of-type {\n",
       "        vertical-align: middle;\n",
       "    }\n",
       "\n",
       "    .dataframe tbody tr th {\n",
       "        vertical-align: top;\n",
       "    }\n",
       "\n",
       "    .dataframe thead th {\n",
       "        text-align: right;\n",
       "    }\n",
       "</style>\n",
       "<table border=\"1\" class=\"dataframe\">\n",
       "  <thead>\n",
       "    <tr style=\"text-align: right;\">\n",
       "      <th></th>\n",
       "      <th>neighborhood</th>\n",
       "      <th>listings_counts</th>\n",
       "      <th>average_price</th>\n",
       "    </tr>\n",
       "    <tr>\n",
       "      <th>neighbourhood_cleansed</th>\n",
       "      <th></th>\n",
       "      <th></th>\n",
       "      <th></th>\n",
       "    </tr>\n",
       "  </thead>\n",
       "  <tbody>\n",
       "    <tr>\n",
       "      <th>Adams</th>\n",
       "      <td>Adams</td>\n",
       "      <td>70</td>\n",
       "      <td>121.671429</td>\n",
       "    </tr>\n",
       "    <tr>\n",
       "      <th>Alki</th>\n",
       "      <td>Alki</td>\n",
       "      <td>42</td>\n",
       "      <td>171.619048</td>\n",
       "    </tr>\n",
       "    <tr>\n",
       "      <th>Arbor Heights</th>\n",
       "      <td>Arbor Heights</td>\n",
       "      <td>5</td>\n",
       "      <td>126.800000</td>\n",
       "    </tr>\n",
       "    <tr>\n",
       "      <th>Atlantic</th>\n",
       "      <td>Atlantic</td>\n",
       "      <td>53</td>\n",
       "      <td>111.396226</td>\n",
       "    </tr>\n",
       "    <tr>\n",
       "      <th>Belltown</th>\n",
       "      <td>Belltown</td>\n",
       "      <td>234</td>\n",
       "      <td>162.893162</td>\n",
       "    </tr>\n",
       "  </tbody>\n",
       "</table>\n",
       "</div>"
      ],
      "text/plain": [
       "                         neighborhood  listings_counts  average_price\n",
       "neighbourhood_cleansed                                               \n",
       "Adams                           Adams               70     121.671429\n",
       "Alki                             Alki               42     171.619048\n",
       "Arbor Heights           Arbor Heights                5     126.800000\n",
       "Atlantic                     Atlantic               53     111.396226\n",
       "Belltown                     Belltown              234     162.893162"
      ]
     },
     "execution_count": 34,
     "metadata": {},
     "output_type": "execute_result"
    }
   ],
   "source": [
    "#setting a new dataframe with neighborhood , their listings counts and their listings average price \n",
    "frame = { 'neighborhood': df_listings_with_neighborhoods_counts.index,'listings_counts': df_listings_with_neighborhoods_counts, 'average_price': df_listings_with_neighborhoods_prices_means }\n",
    "df_listings_with_neighborhoods = pd.DataFrame(frame)\n",
    "df_listings_with_neighborhoods.head()\n"
   ]
  },
  {
   "cell_type": "markdown",
   "metadata": {},
   "source": [
    "#### 4. Data Model (Analysis)\n",
    "\n",
    "\n",
    "Here we try to answer our question from the prepared data:\n",
    "\n",
    "2. What is  listings average price AirBnB listings in Seattle neighborhoods and the how many are their?\n",
    "\n",
    "First, we will take a look at the top the chepest neighborhoods to AirBnB in Seattle:"
   ]
  },
  {
   "cell_type": "code",
   "execution_count": 35,
   "metadata": {},
   "outputs": [
    {
     "data": {
      "image/png": "[encoded data removed]",
      "text/plain": [
       "<Figure size 1080x504 with 1 Axes>"
      ]
     },
     "metadata": {
      "needs_background": "light"
     },
     "output_type": "display_data"
    }
   ],
   "source": [
    "# getting the top 10 highest priced neighborhoods from df_listings_with_neighborhoods\n",
    "df_highest_priced_neighborhoods = df_listings_with_neighborhoods.sort_values(by = 'average_price', ascending= False ).iloc[0:10]\n",
    "\n",
    "#set the figure size\n",
    "plt.figure(figsize=(15,7))\n",
    "\n",
    "#set the figure bars width\n",
    "bar_width = 0.25\n",
    "\n",
    "#set the figure average_price and listings_counts bars positions\n",
    "average_price_position = np.arange(df_highest_priced_neighborhoods.shape[0])\n",
    "listings_counts_position = [x + bar_width for x in average_price_position]\n",
    "\n",
    "# plot the barplot of df_highest_priced_neighborhoods listings counts and average prices\n",
    "plt.bar(average_price_position, df_highest_priced_neighborhoods.average_price, color=base_color, width=bar_width, edgecolor='white', label='Average Price')\n",
    "plt.bar(listings_counts_position, df_highest_priced_neighborhoods.listings_counts, color=base_color_2, width=bar_width, edgecolor='white', label='Listings Counts')\n",
    "\n",
    "#set xticklabels, title and labels of plot\n",
    "plt.title(\"Top 10 Most Expensive Neighborhoods to AirBnB in Seattle\", fontweight='bold')\n",
    "plt.xlabel('Neighborhoods', fontweight='bold')\n",
    "plt.xticks([position + bar_width for position in range(df_highest_priced_neighborhoods.shape[0])], list(df_highest_priced_neighborhoods.neighborhood))\n",
    " \n",
    "#set the legend\n",
    "plt.legend()\n",
    "\n",
    "#Show figure\n",
    "plt.show()\n"
   ]
  },
  {
   "cell_type": "markdown",
   "metadata": {},
   "source": [
    "Then, we will take a look at the top the most expensive neighborhoods to AirBnB in Seattle:"
   ]
  },
  {
   "cell_type": "code",
   "execution_count": 36,
   "metadata": {},
   "outputs": [
    {
     "data": {
      "image/png": "[encoded data removed]",
      "text/plain": [
       "<Figure size 1080x504 with 1 Axes>"
      ]
     },
     "metadata": {
      "needs_background": "light"
     },
     "output_type": "display_data"
    }
   ],
   "source": [
    "# getting the top 10 lowest priced neighborhoods from df_listings_with_neighborhoods\n",
    "df_lowest_priced_neighborhoods = df_listings_with_neighborhoods.sort_values(by = 'average_price' ).iloc[0:10]\n",
    "\n",
    "#set the figure size\n",
    "plt.figure(figsize=(15,7))\n",
    "\n",
    "#set the figure bars width\n",
    "bar_width = 0.25\n",
    "\n",
    "#set the figure average_price and listings_counts bars positions\n",
    "average_price_position = np.arange(df_lowest_priced_neighborhoods.shape[0])\n",
    "listings_counts_position = [x + bar_width for x in average_price_position]\n",
    "\n",
    "# plot the barplot of df_lowest_priced_neighborhoods listings counts and average prices\n",
    "plt.bar(average_price_position, df_lowest_priced_neighborhoods.average_price, color=base_color, width=bar_width, edgecolor='white', label='Average Price')\n",
    "plt.bar(listings_counts_position, df_lowest_priced_neighborhoods.listings_counts, color=base_color_2, width=bar_width, edgecolor='white', label='Listings Counts')\n",
    "\n",
    "#set yticklabels, title and labels of plot\n",
    "plt.title(\"Top 10 Cheapest Neighborhoods to AirBnB in Seattle\" , fontweight='bold')\n",
    "plt.xlabel('Neighborhoods', fontweight='bold')\n",
    "plt.xticks([position + bar_width for position in range(df_lowest_priced_neighborhoods.shape[0])], list(df_lowest_priced_neighborhoods.neighborhood))\n",
    " \n",
    "#set the legend\n",
    "plt.legend()\n",
    "\n",
    "#Show figure\n",
    "plt.show()\n"
   ]
  },
  {
   "cell_type": "markdown",
   "metadata": {},
   "source": [
    "#### 5. Results\n",
    "You can see from the charts above that: \n",
    "\n",
    "The top 3 most expensive neighborhoods to AirBnB in Seattle are:\n",
    "\n",
    "1. Southeast Magnolia \n",
    "2. Portage Bay\n",
    "3. Westlake\n",
    "\n",
    "\n",
    "And the top 3 cheapest neighborhoods are:\n",
    "\n",
    "1. Rainier Beach\n",
    "2. Olympic Hills\n",
    "3. South Delridge\n",
    "\n",
    "You might what to look for listings on these neighborhoods if you looking to travel on a budget.\n"
   ]
  },
  {
   "cell_type": "markdown",
   "metadata": {},
   "source": [
    "### 3. Which AirBnB Seattle listings propeitres has the greatest impact on thier prices?\n",
    "\n",
    "To answer this question were are going to use the listings data set.\n"
   ]
  },
  {
   "cell_type": "code",
   "execution_count": 37,
   "metadata": {
    "scrolled": false
   },
   "outputs": [
    {
     "data": {
      "text/plain": [
       "(Index(['id', 'listing_url', 'scrape_id', 'last_scraped', 'name', 'summary',\n",
       "        'space', 'description', 'experiences_offered', 'neighborhood_overview',\n",
       "        'notes', 'transit', 'thumbnail_url', 'medium_url', 'picture_url',\n",
       "        'xl_picture_url', 'host_id', 'host_url', 'host_name', 'host_since',\n",
       "        'host_location', 'host_about', 'host_response_time',\n",
       "        'host_response_rate', 'host_acceptance_rate', 'host_is_superhost',\n",
       "        'host_thumbnail_url', 'host_picture_url', 'host_neighbourhood',\n",
       "        'host_listings_count', 'host_total_listings_count',\n",
       "        'host_verifications', 'host_has_profile_pic', 'host_identity_verified',\n",
       "        'street', 'neighbourhood', 'neighbourhood_cleansed',\n",
       "        'neighbourhood_group_cleansed', 'city', 'state', 'zipcode', 'market',\n",
       "        'smart_location', 'country_code', 'country', 'latitude', 'longitude',\n",
       "        'is_location_exact', 'property_type', 'room_type', 'accommodates',\n",
       "        'bathrooms', 'bedrooms', 'beds', 'bed_type', 'amenities', 'square_feet',\n",
       "        'price', 'weekly_price', 'monthly_price', 'security_deposit',\n",
       "        'cleaning_fee', 'guests_included', 'extra_people', 'minimum_nights',\n",
       "        'maximum_nights', 'calendar_updated', 'has_availability',\n",
       "        'availability_30', 'availability_60', 'availability_90',\n",
       "        'availability_365', 'calendar_last_scraped', 'number_of_reviews',\n",
       "        'first_review', 'last_review', 'review_scores_rating',\n",
       "        'review_scores_accuracy', 'review_scores_cleanliness',\n",
       "        'review_scores_checkin', 'review_scores_communication',\n",
       "        'review_scores_location', 'review_scores_value', 'requires_license',\n",
       "        'license', 'jurisdiction_names', 'instant_bookable',\n",
       "        'cancellation_policy', 'require_guest_profile_picture',\n",
       "        'require_guest_phone_verification', 'calculated_host_listings_count',\n",
       "        'reviews_per_month'],\n",
       "       dtype='object'), 92)"
      ]
     },
     "execution_count": 37,
     "metadata": {},
     "output_type": "execute_result"
    }
   ],
   "source": [
    "# getting the columns names and numbers of listings data set\n",
    "df_listings.columns, len(df_listings.columns)"
   ]
  },
  {
   "cell_type": "markdown",
   "metadata": {},
   "source": [
    "#### 3. Data preparation\n",
    "Before using the dataset to answer the third question, their are some data preparation steps that are needed to be done:\n",
    "\n",
    " - Try to reduce the number of colunms by finding the colunms that don't add value.\n",
    " - Convert \"t\" and \"f\" values in binary colunms to 1 and 0 respectivly.\n",
    " - Converting prices columns price, weekly_price, monthly_price, security_deposit, cleaning_fee,  and extra_people from string value to numeric.\n",
    " - Converting rate colunms host_response_rate and host_acceptance_rate from from string \"##.## %\" value to numeric.\n",
    " - Handle catagoical columns.\n",
    " - Convet security_deposit, cleaning_fee, and extra_people \n",
    " - Filling columns missing values. \n",
    "\n",
    "\n",
    "\n"
   ]
  },
  {
   "cell_type": "markdown",
   "metadata": {},
   "source": [
    "###### - Try to reduce the number of colunms by finding the colunms that don't add value:\n",
    "\n",
    "- Find columns that have only one value and drop them:"
   ]
  },
  {
   "cell_type": "code",
   "execution_count": 38,
   "metadata": {
    "scrolled": true
   },
   "outputs": [
    {
     "name": "stdout",
     "output_type": "stream",
     "text": [
      "\n",
      "Columns that have only one value:  ['scrape_id', 'last_scraped', 'experiences_offered', 'market', 'country_code', 'country', 'has_availability', 'calendar_last_scraped', 'requires_license', 'jurisdiction_names']\n",
      "\n",
      "Number of colmns before dropping one valued colums:  92\n",
      "\n",
      "Number of colmns after dropping one valued colums:  82\n"
     ]
    }
   ],
   "source": [
    "# find columns that have only one value\n",
    "one_value_colums = list(df_listings.columns[df_listings.nunique() == 1])\n",
    "\n",
    "\n",
    "print('\\nColumns that have only one value: ',one_value_colums)\n",
    "\n",
    "# drop columns that have only one value\n",
    "print(\"\\nNumber of colmns before dropping one valued colums: \", df_listings.shape[1])\n",
    "df_listings.drop(one_value_colums,axis=1, inplace= True)\n",
    "print(\"\\nNumber of colmns after dropping one valued colums: \", df_listings.shape[1])"
   ]
  },
  {
   "cell_type": "markdown",
   "metadata": {},
   "source": [
    "- Find columns with more that 90% missing values and drop them:"
   ]
  },
  {
   "cell_type": "code",
   "execution_count": 39,
   "metadata": {},
   "outputs": [
    {
     "name": "stdout",
     "output_type": "stream",
     "text": [
      "\n",
      "Columns with more that 90% missing values:  ['square_feet', 'license']\n",
      "\n",
      "Number of colmns before dropping columns with more that 90% missing values:  82\n",
      "\n",
      "Number of colmns after dropping columns with more that 90% missing values:  80\n"
     ]
    }
   ],
   "source": [
    "# find columns that have more that 90% missing values \n",
    "more_than_90_persent_value_missing_colums = list(set(df_listings.columns[df_listings.isnull().mean() >= .9]))\n",
    "print('\\nColumns with more that 90% missing values: ',more_than_90_persent_value_missing_colums)\n",
    "\n",
    "# drop columns that have more that 90% missing values\n",
    "print(\"\\nNumber of colmns before dropping columns with more that 90% missing values: \", df_listings.shape[1])\n",
    "df_listings.drop(more_than_90_persent_value_missing_colums,axis=1, inplace= True)\n",
    "print(\"\\nNumber of colmns after dropping columns with more that 90% missing values: \", df_listings.shape[1])"
   ]
  },
  {
   "cell_type": "markdown",
   "metadata": {},
   "source": [
    "- Find columns with more than 80% distinct values and drop them (exept for amenities column):"
   ]
  },
  {
   "cell_type": "code",
   "execution_count": 40,
   "metadata": {},
   "outputs": [
    {
     "name": "stdout",
     "output_type": "stream",
     "text": [
      "id 100.0 %\n",
      "listing_url 100.0 %\n",
      "name 99.31901519119958 %\n",
      "summary 95.52320790991486 %\n",
      "space 95.99876885195445 %\n",
      "description 98.00942902042954 %\n",
      "neighborhood_overview 89.9497487437186 %\n",
      "notes 90.37070524412296 %\n",
      "transit 89.25104022191401 %\n",
      "thumbnail_url 100.0 %\n",
      "medium_url 100.0 %\n",
      "picture_url 100.0 %\n",
      "xl_picture_url 100.0 %\n",
      "latitude 100.0 %\n",
      "longitude 100.0 %\n",
      "amenities 86.01361969617601 %\n",
      "\n",
      "More than 80% distinct values colunms:  ['id', 'listing_url', 'name', 'summary', 'space', 'description', 'neighborhood_overview', 'notes', 'transit', 'thumbnail_url', 'medium_url', 'picture_url', 'xl_picture_url', 'latitude', 'longitude']\n",
      "\n",
      "Number of colmns before dropping more than 80% distinct values colunms:  80\n",
      "\n",
      "Number of colmns after dropping more than 80% distinct values colunms:  65\n"
     ]
    }
   ],
   "source": [
    "# getting columns with more than 80% distinct values\n",
    "\n",
    "more_than_80_persent_distinct_values_colunms= []\n",
    "for col in df_listings.columns:\n",
    "    if (df_listings[col].nunique()/df_listings[col].count())*100 >= 80:\n",
    "        more_than_80_persent_distinct_values_colunms.append(col)\n",
    "        print(col, (df_listings[col].nunique()/df_listings[col].count())*100,\"%\") \n",
    "\n",
    "# remove amenities\n",
    "more_than_80_persent_distinct_values_colunms.remove('amenities')        \n",
    "print('\\nMore than 80% distinct values colunms: ',more_than_80_persent_distinct_values_colunms)\n",
    "\n",
    "# drop amenities column\n",
    "print(\"\\nNumber of colmns before dropping more than 80% distinct values colunms: \", df_listings.shape[1])\n",
    "df_listings.drop(more_than_80_persent_distinct_values_colunms,axis=1, inplace= True)\n",
    "print(\"\\nNumber of colmns after dropping more than 80% distinct values colunms: \", df_listings.shape[1])\n"
   ]
  },
  {
   "cell_type": "markdown",
   "metadata": {},
   "source": [
    "- As we already viewed the realationship between listings price and their neighbourhoods and their values varieties will drop neighbourhood realted columns"
   ]
  },
  {
   "cell_type": "code",
   "execution_count": 41,
   "metadata": {},
   "outputs": [
    {
     "name": "stdout",
     "output_type": "stream",
     "text": [
      "\n",
      "Number of colmns before dropping neighbourhood columns:  65\n",
      "\n",
      "Number of colmns after dropping neighbourhood columns:  60\n"
     ]
    }
   ],
   "source": [
    "# list of neighborhood columns\n",
    "neighborhood_columns = ['neighbourhood','neighbourhood_cleansed','neighbourhood_group_cleansed','street','zipcode'] \n",
    "\n",
    "# drop neighborhood columns\n",
    "print(\"\\nNumber of colmns before dropping neighbourhood columns: \", df_listings.shape[1])\n",
    "df_listings.drop(neighborhood_columns ,axis=1, inplace= True)\n",
    "print(\"\\nNumber of colmns after dropping neighbourhood columns: \", df_listings.shape[1])\n",
    "\n"
   ]
  },
  {
   "cell_type": "markdown",
   "metadata": {},
   "source": [
    "- As the colunms smart_location, state, city refer to the same value will drop these colunms. "
   ]
  },
  {
   "cell_type": "code",
   "execution_count": 42,
   "metadata": {},
   "outputs": [
    {
     "name": "stdout",
     "output_type": "stream",
     "text": [
      "\n",
      "Number of colmns before dropping same location columns:  60\n",
      "\n",
      "Number of colmns after dropping same location columns  57\n"
     ]
    }
   ],
   "source": [
    "# list same location columns\n",
    "same_location_columns = ['smart_location', 'state', 'city']\n",
    "\n",
    "# drop same_location_columns\n",
    "print(\"\\nNumber of colmns before dropping same location columns: \", df_listings.shape[1])\n",
    "df_listings.drop(same_location_columns ,axis=1, inplace= True)\n",
    "print(\"\\nNumber of colmns after dropping same location columns \", df_listings.shape[1])\n"
   ]
  },
  {
   "cell_type": "markdown",
   "metadata": {},
   "source": [
    "- Now we will remove any host columns that will not add a lot of information :  host_url, host_name, host_since, host_location, host_about , host_verifications, host_thumbnail_url, host_picture_url, and host_neighbourhood. Also, remove weekly_price and monthly_price as we are try to find the impact on price column\n"
   ]
  },
  {
   "cell_type": "code",
   "execution_count": 43,
   "metadata": {},
   "outputs": [
    {
     "name": "stdout",
     "output_type": "stream",
     "text": [
      "\n",
      "Number of colmns before dropping columns that will not add a lot of information:  57\n",
      "\n",
      "Number of colmns after dropping columns that will not add a lot of information:  42\n"
     ]
    }
   ],
   "source": [
    "#list of usless host coulums and weekly_price and monthly_price \n",
    "host_colunms = ['monthly_price','weekly_price', 'host_id', 'host_has_profile_pic', 'host_url', 'host_name', 'host_since','host_listings_count','host_response_time', 'host_location', 'host_about','host_verifications','host_thumbnail_url', 'host_picture_url','host_neighbourhood']\n",
    "\n",
    "# drop usless host coulums \n",
    "print(\"\\nNumber of colmns before dropping columns that will not add a lot of information: \", df_listings.shape[1])\n",
    "df_listings.drop(host_colunms ,axis=1, inplace= True)\n",
    "print(\"\\nNumber of colmns after dropping columns that will not add a lot of information: \", df_listings.shape[1])\n"
   ]
  },
  {
   "cell_type": "code",
   "execution_count": 44,
   "metadata": {},
   "outputs": [
    {
     "data": {
      "text/plain": [
       "21"
      ]
     },
     "execution_count": 44,
     "metadata": {},
     "output_type": "execute_result"
    }
   ],
   "source": [
    " len(list(set(df_listings.columns[df_listings.isnull().mean() != 0])))"
   ]
  },
  {
   "cell_type": "code",
   "execution_count": 45,
   "metadata": {},
   "outputs": [
    {
     "name": "stdout",
     "output_type": "stream",
     "text": [
      "<class 'pandas.core.frame.DataFrame'>\n",
      "RangeIndex: 3818 entries, 0 to 3817\n",
      "Data columns (total 42 columns):\n",
      "host_response_rate                  3295 non-null object\n",
      "host_acceptance_rate                3045 non-null object\n",
      "host_is_superhost                   3816 non-null object\n",
      "host_total_listings_count           3816 non-null float64\n",
      "host_identity_verified              3816 non-null object\n",
      "is_location_exact                   3818 non-null object\n",
      "property_type                       3817 non-null object\n",
      "room_type                           3818 non-null object\n",
      "accommodates                        3818 non-null int64\n",
      "bathrooms                           3802 non-null float64\n",
      "bedrooms                            3812 non-null float64\n",
      "beds                                3817 non-null float64\n",
      "bed_type                            3818 non-null object\n",
      "amenities                           3818 non-null object\n",
      "price                               3818 non-null object\n",
      "security_deposit                    1866 non-null object\n",
      "cleaning_fee                        2788 non-null object\n",
      "guests_included                     3818 non-null int64\n",
      "extra_people                        3818 non-null object\n",
      "minimum_nights                      3818 non-null int64\n",
      "maximum_nights                      3818 non-null int64\n",
      "calendar_updated                    3818 non-null object\n",
      "availability_30                     3818 non-null int64\n",
      "availability_60                     3818 non-null int64\n",
      "availability_90                     3818 non-null int64\n",
      "availability_365                    3818 non-null int64\n",
      "number_of_reviews                   3818 non-null int64\n",
      "first_review                        3191 non-null object\n",
      "last_review                         3191 non-null object\n",
      "review_scores_rating                3171 non-null float64\n",
      "review_scores_accuracy              3160 non-null float64\n",
      "review_scores_cleanliness           3165 non-null float64\n",
      "review_scores_checkin               3160 non-null float64\n",
      "review_scores_communication         3167 non-null float64\n",
      "review_scores_location              3163 non-null float64\n",
      "review_scores_value                 3162 non-null float64\n",
      "instant_bookable                    3818 non-null object\n",
      "cancellation_policy                 3818 non-null object\n",
      "require_guest_profile_picture       3818 non-null object\n",
      "require_guest_phone_verification    3818 non-null object\n",
      "calculated_host_listings_count      3818 non-null int64\n",
      "reviews_per_month                   3191 non-null float64\n",
      "dtypes: float64(12), int64(10), object(20)\n",
      "memory usage: 1.2+ MB\n"
     ]
    }
   ],
   "source": [
    "df_listings.info()"
   ]
  },
  {
   "cell_type": "markdown",
   "metadata": {},
   "source": [
    "##### - Convert \"t\" and \"f\" values in binary colunms to 1 and 0 respectivly:"
   ]
  },
  {
   "cell_type": "code",
   "execution_count": 46,
   "metadata": {},
   "outputs": [
    {
     "name": "stdout",
     "output_type": "stream",
     "text": [
      "Binary columns are: ['host_is_superhost', 'host_identity_verified', 'is_location_exact', 'instant_bookable', 'require_guest_profile_picture', 'require_guest_phone_verification']\n"
     ]
    },
    {
     "name": "stderr",
     "output_type": "stream",
     "text": [
      "/Users/NYRoomi/anaconda3/lib/python3.7/site-packages/numpy/lib/arraysetops.py:522: FutureWarning: elementwise comparison failed; returning scalar instead, but in the future will perform elementwise comparison\n",
      "  mask |= (ar1 == a)\n"
     ]
    },
    {
     "name": "stdout",
     "output_type": "stream",
     "text": [
      "<class 'pandas.core.frame.DataFrame'>\n",
      "RangeIndex: 3818 entries, 0 to 3817\n",
      "Data columns (total 42 columns):\n",
      "host_response_rate                  3295 non-null object\n",
      "host_acceptance_rate                3045 non-null object\n",
      "host_is_superhost                   3818 non-null int64\n",
      "host_total_listings_count           3816 non-null float64\n",
      "host_identity_verified              3818 non-null int64\n",
      "is_location_exact                   3818 non-null int64\n",
      "property_type                       3817 non-null object\n",
      "room_type                           3818 non-null object\n",
      "accommodates                        3818 non-null int64\n",
      "bathrooms                           3802 non-null float64\n",
      "bedrooms                            3812 non-null float64\n",
      "beds                                3817 non-null float64\n",
      "bed_type                            3818 non-null object\n",
      "amenities                           3818 non-null object\n",
      "price                               3818 non-null object\n",
      "security_deposit                    1866 non-null object\n",
      "cleaning_fee                        2788 non-null object\n",
      "guests_included                     3818 non-null int64\n",
      "extra_people                        3818 non-null object\n",
      "minimum_nights                      3818 non-null int64\n",
      "maximum_nights                      3818 non-null int64\n",
      "calendar_updated                    3818 non-null object\n",
      "availability_30                     3818 non-null int64\n",
      "availability_60                     3818 non-null int64\n",
      "availability_90                     3818 non-null int64\n",
      "availability_365                    3818 non-null int64\n",
      "number_of_reviews                   3818 non-null int64\n",
      "first_review                        3191 non-null object\n",
      "last_review                         3191 non-null object\n",
      "review_scores_rating                3171 non-null float64\n",
      "review_scores_accuracy              3160 non-null float64\n",
      "review_scores_cleanliness           3165 non-null float64\n",
      "review_scores_checkin               3160 non-null float64\n",
      "review_scores_communication         3167 non-null float64\n",
      "review_scores_location              3163 non-null float64\n",
      "review_scores_value                 3162 non-null float64\n",
      "instant_bookable                    3818 non-null int64\n",
      "cancellation_policy                 3818 non-null object\n",
      "require_guest_profile_picture       3818 non-null int64\n",
      "require_guest_phone_verification    3818 non-null int64\n",
      "calculated_host_listings_count      3818 non-null int64\n",
      "reviews_per_month                   3191 non-null float64\n",
      "dtypes: float64(12), int64(16), object(14)\n",
      "memory usage: 1.2+ MB\n"
     ]
    }
   ],
   "source": [
    "# getting binary columns with 't' and 'f'\n",
    "bool_cols = [col for col in df_listings if np.isin(df_listings[col].dropna().unique(), ['t', 'f']).all()]\n",
    "print(\"Binary columns are:\" , bool_cols )\n",
    "\n",
    "# convert \"t\" and \"f\" values in binary colunms to 1 and 0 respectivly\n",
    "for col in bool_cols:\n",
    "    df_listings[col] = df_listings.apply(lambda x: 1 if( x[col]=='t') else 0 ,axis=1)\n",
    "    \n",
    "df_listings.info()"
   ]
  },
  {
   "cell_type": "markdown",
   "metadata": {},
   "source": [
    "##### - Converting prices columns price, weekly_price, monthly_price, security_deposit, cleaning_fee, and extra_people from string value to numeric:"
   ]
  },
  {
   "cell_type": "code",
   "execution_count": 47,
   "metadata": {
    "scrolled": true
   },
   "outputs": [
    {
     "name": "stdout",
     "output_type": "stream",
     "text": [
      "<class 'pandas.core.frame.DataFrame'>\n",
      "RangeIndex: 3818 entries, 0 to 3817\n",
      "Data columns (total 42 columns):\n",
      "host_response_rate                  3295 non-null object\n",
      "host_acceptance_rate                3045 non-null object\n",
      "host_is_superhost                   3818 non-null int64\n",
      "host_total_listings_count           3816 non-null float64\n",
      "host_identity_verified              3818 non-null int64\n",
      "is_location_exact                   3818 non-null int64\n",
      "property_type                       3817 non-null object\n",
      "room_type                           3818 non-null object\n",
      "accommodates                        3818 non-null int64\n",
      "bathrooms                           3802 non-null float64\n",
      "bedrooms                            3812 non-null float64\n",
      "beds                                3817 non-null float64\n",
      "bed_type                            3818 non-null object\n",
      "amenities                           3818 non-null object\n",
      "price                               3818 non-null float64\n",
      "security_deposit                    1866 non-null float64\n",
      "cleaning_fee                        2788 non-null float64\n",
      "guests_included                     3818 non-null int64\n",
      "extra_people                        3818 non-null float64\n",
      "minimum_nights                      3818 non-null int64\n",
      "maximum_nights                      3818 non-null int64\n",
      "calendar_updated                    3818 non-null object\n",
      "availability_30                     3818 non-null int64\n",
      "availability_60                     3818 non-null int64\n",
      "availability_90                     3818 non-null int64\n",
      "availability_365                    3818 non-null int64\n",
      "number_of_reviews                   3818 non-null int64\n",
      "first_review                        3191 non-null object\n",
      "last_review                         3191 non-null object\n",
      "review_scores_rating                3171 non-null float64\n",
      "review_scores_accuracy              3160 non-null float64\n",
      "review_scores_cleanliness           3165 non-null float64\n",
      "review_scores_checkin               3160 non-null float64\n",
      "review_scores_communication         3167 non-null float64\n",
      "review_scores_location              3163 non-null float64\n",
      "review_scores_value                 3162 non-null float64\n",
      "instant_bookable                    3818 non-null int64\n",
      "cancellation_policy                 3818 non-null object\n",
      "require_guest_profile_picture       3818 non-null int64\n",
      "require_guest_phone_verification    3818 non-null int64\n",
      "calculated_host_listings_count      3818 non-null int64\n",
      "reviews_per_month                   3191 non-null float64\n",
      "dtypes: float64(16), int64(16), object(10)\n",
      "memory usage: 1.2+ MB\n"
     ]
    }
   ],
   "source": [
    "# list of prices columns\n",
    "price_columns = ['price', 'security_deposit', 'cleaning_fee', 'extra_people']\n",
    "\n",
    "#convert vlaues to numeric\n",
    "for col in price_columns:\n",
    "    df_listings[col] = df_listings.apply(lambda x: float(x[col].replace('$', '').replace(',', '')) if( pd.notna(x[col])) else x[col] ,axis=1)\n",
    "\n",
    "df_listings.info()"
   ]
  },
  {
   "cell_type": "markdown",
   "metadata": {},
   "source": [
    "##### - Converting rate colunms host_response_rate and host_acceptance_rate from from string \"##.## %\" value to numeric:\n",
    "\n",
    "\n"
   ]
  },
  {
   "cell_type": "code",
   "execution_count": 48,
   "metadata": {},
   "outputs": [
    {
     "name": "stdout",
     "output_type": "stream",
     "text": [
      "<class 'pandas.core.frame.DataFrame'>\n",
      "RangeIndex: 3818 entries, 0 to 3817\n",
      "Data columns (total 42 columns):\n",
      "host_response_rate                  3295 non-null float64\n",
      "host_acceptance_rate                3045 non-null float64\n",
      "host_is_superhost                   3818 non-null int64\n",
      "host_total_listings_count           3816 non-null float64\n",
      "host_identity_verified              3818 non-null int64\n",
      "is_location_exact                   3818 non-null int64\n",
      "property_type                       3817 non-null object\n",
      "room_type                           3818 non-null object\n",
      "accommodates                        3818 non-null int64\n",
      "bathrooms                           3802 non-null float64\n",
      "bedrooms                            3812 non-null float64\n",
      "beds                                3817 non-null float64\n",
      "bed_type                            3818 non-null object\n",
      "amenities                           3818 non-null object\n",
      "price                               3818 non-null float64\n",
      "security_deposit                    1866 non-null float64\n",
      "cleaning_fee                        2788 non-null float64\n",
      "guests_included                     3818 non-null int64\n",
      "extra_people                        3818 non-null float64\n",
      "minimum_nights                      3818 non-null int64\n",
      "maximum_nights                      3818 non-null int64\n",
      "calendar_updated                    3818 non-null object\n",
      "availability_30                     3818 non-null int64\n",
      "availability_60                     3818 non-null int64\n",
      "availability_90                     3818 non-null int64\n",
      "availability_365                    3818 non-null int64\n",
      "number_of_reviews                   3818 non-null int64\n",
      "first_review                        3191 non-null object\n",
      "last_review                         3191 non-null object\n",
      "review_scores_rating                3171 non-null float64\n",
      "review_scores_accuracy              3160 non-null float64\n",
      "review_scores_cleanliness           3165 non-null float64\n",
      "review_scores_checkin               3160 non-null float64\n",
      "review_scores_communication         3167 non-null float64\n",
      "review_scores_location              3163 non-null float64\n",
      "review_scores_value                 3162 non-null float64\n",
      "instant_bookable                    3818 non-null int64\n",
      "cancellation_policy                 3818 non-null object\n",
      "require_guest_profile_picture       3818 non-null int64\n",
      "require_guest_phone_verification    3818 non-null int64\n",
      "calculated_host_listings_count      3818 non-null int64\n",
      "reviews_per_month                   3191 non-null float64\n",
      "dtypes: float64(18), int64(16), object(8)\n",
      "memory usage: 1.2+ MB\n"
     ]
    }
   ],
   "source": [
    "# list of rate columns\n",
    "rate_columns = ['host_response_rate', 'host_acceptance_rate']\n",
    "\n",
    "#convert vlaues to numeric\n",
    "for col in rate_columns:\n",
    "    df_listings[col] = df_listings.apply(lambda x: float(x[col].replace('%', '')) if( pd.notna(x[col])) else x[col] ,axis=1)\n",
    "\n",
    "df_listings.info()"
   ]
  },
  {
   "cell_type": "markdown",
   "metadata": {},
   "source": [
    "##### - Handle catagoical columns:\n",
    "\n",
    "\n",
    "\n",
    "\n",
    "let's see the catagoical columns:"
   ]
  },
  {
   "cell_type": "code",
   "execution_count": 49,
   "metadata": {},
   "outputs": [
    {
     "name": "stdout",
     "output_type": "stream",
     "text": [
      "<class 'pandas.core.frame.DataFrame'>\n",
      "RangeIndex: 3818 entries, 0 to 3817\n",
      "Data columns (total 8 columns):\n",
      "property_type          3817 non-null object\n",
      "room_type              3818 non-null object\n",
      "bed_type               3818 non-null object\n",
      "amenities              3818 non-null object\n",
      "calendar_updated       3818 non-null object\n",
      "first_review           3191 non-null object\n",
      "last_review            3191 non-null object\n",
      "cancellation_policy    3818 non-null object\n",
      "dtypes: object(8)\n",
      "memory usage: 238.7+ KB\n"
     ]
    }
   ],
   "source": [
    "#getting info of catagoical columns\n",
    "df_listings.select_dtypes(include=['object']).info()\n"
   ]
  },
  {
   "cell_type": "markdown",
   "metadata": {},
   "source": [
    "- Let's handle bed_type column:\n",
    "        let's see the value counts of bed_type"
   ]
  },
  {
   "cell_type": "code",
   "execution_count": 50,
   "metadata": {},
   "outputs": [
    {
     "data": {
      "text/plain": [
       "Real Bed         3657\n",
       "Futon              74\n",
       "Pull-out Sofa      47\n",
       "Airbed             27\n",
       "Couch              13\n",
       "Name: bed_type, dtype: int64"
      ]
     },
     "execution_count": 50,
     "metadata": {},
     "output_type": "execute_result"
    }
   ],
   "source": [
    "# getting bed_type values count\n",
    "df_listings.bed_type.value_counts()"
   ]
  },
  {
   "cell_type": "markdown",
   "metadata": {},
   "source": [
    "    As the majority of listings has Real Bed  as  their bed_type will convert the column to a binary value has has_real_bed column"
   ]
  },
  {
   "cell_type": "code",
   "execution_count": 51,
   "metadata": {},
   "outputs": [
    {
     "name": "stdout",
     "output_type": "stream",
     "text": [
      "\n",
      "Number of colmns before dropping bed_type colunm:  43\n",
      "\n",
      "Number of colmns after dropping bed_type colunm:  42\n"
     ]
    }
   ],
   "source": [
    "# convert bed_type to has_bed binary column \n",
    "def set_has_bed(bed_type):\n",
    "        return 1 if (bed_type == 'Real Bed') else 0\n",
    "\n",
    "# create new column with new has_real_bed values\n",
    "df_listings['has_real_bed'] = df_listings.bed_type.map(set_has_bed)\n",
    "\n",
    "#drop bed_type column \n",
    "print(\"\\nNumber of colmns before dropping bed_type colunm: \", df_listings.shape[1])\n",
    "df_listings.drop('bed_type',axis=1, inplace= True)\n",
    "print(\"\\nNumber of colmns after dropping bed_type colunm: \", df_listings.shape[1])"
   ]
  },
  {
   "cell_type": "markdown",
   "metadata": {},
   "source": [
    "- Let's handle amenities column:\n",
    "        let's see the value counts of amenities"
   ]
  },
  {
   "cell_type": "code",
   "execution_count": 52,
   "metadata": {},
   "outputs": [
    {
     "data": {
      "text/plain": [
       "{}                                                                                                                                                                                                                                                                                                                                                                                                                    45\n",
       "{Internet,\"Wireless Internet\",Kitchen,\"Free Parking on Premises\",Heating,Washer,Dryer}                                                                                                                                                                                                                                                                                                                                11\n",
       "{TV,\"Cable TV\",Internet,\"Wireless Internet\",Pool,Kitchen,\"Free Parking on Premises\",Gym,\"Elevator in Building\",\"Hot Tub\",Heating,\"Family/Kid Friendly\",Washer,Dryer,\"Smoke Detector\",\"Carbon Monoxide Detector\",\"Fire Extinguisher\",Essentials,Shampoo,\"24-Hour Check-in\",Hangers,\"Hair Dryer\",Iron}                                                                                                                  10\n",
       "{TV,\"Cable TV\",Internet,\"Wireless Internet\",Kitchen,\"Buzzer/Wireless Intercom\",Heating,Washer,Dryer,Essentials,\"24-Hour Check-in\",Hangers,\"Hair Dryer\",Iron,\"Laptop Friendly Workspace\"}                                                                                                                                                                                                                               8\n",
       "{TV,\"Cable TV\",Internet,\"Wireless Internet\",\"Air Conditioning\",Kitchen,\"Buzzer/Wireless Intercom\",Heating,\"Family/Kid Friendly\",Washer,Dryer,\"Smoke Detector\",\"Carbon Monoxide Detector\",\"First Aid Kit\",\"Fire Extinguisher\",Essentials,Shampoo}                                                                                                                                                                       7\n",
       "{TV,Internet,\"Wireless Internet\",\"Air Conditioning\",\"Wheelchair Accessible\",Kitchen,Doorman,Gym,\"Elevator in Building\",\"Buzzer/Wireless Intercom\",Heating,\"Family/Kid Friendly\",Washer,Dryer,\"Smoke Detector\",\"Carbon Monoxide Detector\",\"First Aid Kit\",\"Safety Card\",\"Fire Extinguisher\",Essentials,Shampoo,\"24-Hour Check-in\",Hangers,\"Hair Dryer\",Iron,\"Laptop Friendly Workspace\"}                                7\n",
       "{Internet,\"Wireless Internet\",Kitchen,Heating,\"Suitable for Events\",Washer,Dryer,\"Smoke Detector\",\"Carbon Monoxide Detector\",\"First Aid Kit\",\"Fire Extinguisher\",Essentials}                                                                                                                                                                                                                                           7\n",
       "{TV,Internet,\"Wireless Internet\",\"Air Conditioning\",Kitchen,\"Free Parking on Premises\",Heating,Washer,Dryer,\"Smoke Detector\",\"Carbon Monoxide Detector\",\"First Aid Kit\",\"Fire Extinguisher\",Essentials,Shampoo}                                                                                                                                                                                                        7\n",
       "{TV,\"Cable TV\",Internet,\"Wireless Internet\",Kitchen,\"Free Parking on Premises\",Heating,\"Family/Kid Friendly\",Washer,Dryer,\"Smoke Detector\",\"Carbon Monoxide Detector\",Essentials,Shampoo}                                                                                                                                                                                                                              6\n",
       "{TV,\"Cable TV\",Internet,\"Wireless Internet\",\"Air Conditioning\",\"Wheelchair Accessible\",Pool,Kitchen,\"Free Parking on Premises\",Gym,\"Elevator in Building\",\"Hot Tub\",\"Buzzer/Wireless Intercom\",Heating,\"Family/Kid Friendly\",Washer,Dryer,\"Smoke Detector\",\"Carbon Monoxide Detector\",\"Safety Card\",\"Fire Extinguisher\",Essentials,Shampoo,Hangers,\"Hair Dryer\",Iron}                                                  6\n",
       "{TV,Internet,\"Wireless Internet\",\"Air Conditioning\",\"Wheelchair Accessible\",Kitchen,Gym,\"Elevator in Building\",\"Buzzer/Wireless Intercom\",Heating,\"Family/Kid Friendly\",Washer,Dryer,\"Smoke Detector\",\"Carbon Monoxide Detector\",\"First Aid Kit\",\"Safety Card\",\"Fire Extinguisher\",Essentials,Shampoo,\"24-Hour Check-in\",Hangers,\"Hair Dryer\",Iron,\"Laptop Friendly Workspace\"}                                        6\n",
       "{TV,\"Cable TV\",Internet,\"Wireless Internet\",\"Wheelchair Accessible\",Kitchen,\"Free Parking on Premises\",Gym,\"Elevator in Building\",\"Buzzer/Wireless Intercom\",Heating,\"Family/Kid Friendly\",Washer,Dryer,\"Smoke Detector\",\"Carbon Monoxide Detector\",\"Safety Card\",\"Fire Extinguisher\",Essentials,Shampoo,Hangers,\"Hair Dryer\",Iron}                                                                                    6\n",
       "{TV,\"Cable TV\",Internet,\"Wireless Internet\",\"Air Conditioning\",Pool,Kitchen,\"Free Parking on Premises\",Gym,\"Elevator in Building\",\"Hot Tub\",Heating,\"Family/Kid Friendly\",Washer,Dryer,\"Smoke Detector\",\"Carbon Monoxide Detector\",\"Fire Extinguisher\",Essentials,Shampoo,\"24-Hour Check-in\",Hangers,\"Hair Dryer\",Iron,\"Laptop Friendly Workspace\"}                                                                    6\n",
       "{Internet,\"Wireless Internet\",Kitchen,\"Free Parking on Premises\",Breakfast,Heating,\"Smoke Detector\",\"Carbon Monoxide Detector\",\"Fire Extinguisher\",Essentials,Shampoo}                                                                                                                                                                                                                                                 6\n",
       "{TV,\"Cable TV\",Internet,\"Wireless Internet\",Kitchen,\"Free Parking on Premises\",Heating,\"Family/Kid Friendly\",Washer,Dryer,\"Smoke Detector\",\"Carbon Monoxide Detector\",\"First Aid Kit\",\"Safety Card\",\"Fire Extinguisher\",Essentials,Shampoo}                                                                                                                                                                            6\n",
       "{TV,Internet,\"Wireless Internet\",Kitchen,\"Elevator in Building\",\"Buzzer/Wireless Intercom\",Heating,\"Family/Kid Friendly\",Washer,Dryer,\"Smoke Detector\",\"Carbon Monoxide Detector\",\"First Aid Kit\",\"Safety Card\",\"Fire Extinguisher\",Essentials,Shampoo,\"24-Hour Check-in\",Hangers,\"Hair Dryer\",Iron,\"Laptop Friendly Workspace\"}                                                                                       6\n",
       "{TV,Internet,\"Wireless Internet\",\"Air Conditioning\",Kitchen,Doorman,Gym,\"Elevator in Building\",\"Buzzer/Wireless Intercom\",Heating,\"Family/Kid Friendly\",Washer,Dryer,\"Smoke Detector\",\"Carbon Monoxide Detector\",\"First Aid Kit\",\"Safety Card\",\"Fire Extinguisher\",Essentials,Shampoo,\"24-Hour Check-in\",Hangers,\"Hair Dryer\",Iron,\"Laptop Friendly Workspace\"}                                                        5\n",
       "{TV,\"Cable TV\",Internet,\"Wireless Internet\",Kitchen,\"Free Parking on Premises\",\"Indoor Fireplace\",Heating,\"Family/Kid Friendly\",Washer,Dryer,\"Smoke Detector\",\"Carbon Monoxide Detector\",Essentials,Shampoo}                                                                                                                                                                                                           5\n",
       "{TV,Internet,\"Wireless Internet\",Kitchen,\"Free Parking on Premises\",Heating,Washer,Dryer,\"Smoke Detector\",\"Carbon Monoxide Detector\",Essentials,Shampoo}                                                                                                                                                                                                                                                               5\n",
       "{TV,\"Cable TV\",Internet,\"Wireless Internet\",Kitchen,\"Free Parking on Premises\",\"Pets Allowed\",Heating,\"Family/Kid Friendly\",\"Suitable for Events\",Washer,Dryer}                                                                                                                                                                                                                                                        5\n",
       "{TV,\"Cable TV\",Internet,\"Wireless Internet\",Kitchen,\"Free Parking on Premises\",Heating,Washer,Dryer,\"Smoke Detector\",\"Carbon Monoxide Detector\",\"Fire Extinguisher\",Essentials,Shampoo}                                                                                                                                                                                                                                5\n",
       "{TV,Internet,\"Wireless Internet\",Kitchen,\"Free Parking on Premises\",\"Indoor Fireplace\",Heating,\"Family/Kid Friendly\",Washer,Dryer,\"Smoke Detector\",\"Carbon Monoxide Detector\",\"Fire Extinguisher\",Essentials,Shampoo}                                                                                                                                                                                                  5\n",
       "{Internet,\"Wireless Internet\",Kitchen,\"Indoor Fireplace\",Heating,\"Suitable for Events\",Washer,Dryer,\"Smoke Detector\",\"Carbon Monoxide Detector\",\"First Aid Kit\",\"Fire Extinguisher\",Essentials}                                                                                                                                                                                                                        5\n",
       "{TV,\"Cable TV\",Internet,\"Wireless Internet\",Kitchen,\"Free Parking on Premises\",Heating,\"Family/Kid Friendly\",Washer,Dryer,\"Smoke Detector\",\"Carbon Monoxide Detector\",\"Fire Extinguisher\",Essentials,Shampoo}                                                                                                                                                                                                          5\n",
       "{Internet,\"Wireless Internet\",Kitchen,\"Free Parking on Premises\",Breakfast,\"Indoor Fireplace\",Heating,\"Family/Kid Friendly\",Washer,Dryer,\"Smoke Detector\",\"Carbon Monoxide Detector\",\"Fire Extinguisher\",Essentials,Shampoo}                                                                                                                                                                                           5\n",
       "{TV,\"Cable TV\",Internet,\"Wireless Internet\",Kitchen,\"Free Parking on Premises\",Heating,\"Family/Kid Friendly\",\"Smoke Detector\",\"Carbon Monoxide Detector\",\"First Aid Kit\",\"Fire Extinguisher\",Essentials,Shampoo}                                                                                                                                                                                                       5\n",
       "{TV,\"Cable TV\",Internet,\"Wireless Internet\",\"Air Conditioning\",Kitchen,\"Elevator in Building\",Heating,\"Family/Kid Friendly\",Washer,Dryer,\"Smoke Detector\",\"Carbon Monoxide Detector\",\"Fire Extinguisher\",Essentials}                                                                                                                                                                                                   5\n",
       "{TV,\"Cable TV\",Internet,\"Wireless Internet\",Kitchen,\"Free Parking on Premises\",\"Indoor Fireplace\",Heating,\"Family/Kid Friendly\",Washer,Dryer,\"Smoke Detector\",\"Carbon Monoxide Detector\",\"First Aid Kit\",\"Fire Extinguisher\",Essentials,Shampoo}                                                                                                                                                                       4\n",
       "{TV,\"Cable TV\",Internet,\"Wireless Internet\",Kitchen,\"Free Parking on Premises\",Heating,\"Family/Kid Friendly\",Washer,Dryer,\"Smoke Detector\",\"Carbon Monoxide Detector\",\"Fire Extinguisher\",Essentials,Shampoo,\"24-Hour Check-in\",Hangers,\"Hair Dryer\",Iron,\"Laptop Friendly Workspace\"}                                                                                                                                 4\n",
       "{TV,\"Wireless Internet\",Kitchen,\"Free Parking on Premises\",Heating,\"Family/Kid Friendly\",Washer,Dryer,\"Smoke Detector\",\"Carbon Monoxide Detector\",\"First Aid Kit\",\"Fire Extinguisher\",Essentials,Shampoo}                                                                                                                                                                                                              4\n",
       "                                                                                                                                                                                                                                                                                                                                                                                                                      ..\n",
       "{TV,Internet,\"Wireless Internet\",Kitchen,\"Free Parking on Premises\",Heating,Washer,Dryer,\"Smoke Detector\",\"Fire Extinguisher\",Essentials}                                                                                                                                                                                                                                                                              1\n",
       "{TV,\"Cable TV\",\"Wireless Internet\",Kitchen,Gym,\"Indoor Fireplace\",Heating,\"Family/Kid Friendly\",Washer,Dryer}                                                                                                                                                                                                                                                                                                          1\n",
       "{\"Wireless Internet\",Kitchen,\"Free Parking on Premises\",Breakfast,\"Indoor Fireplace\",Heating,\"Family/Kid Friendly\",Washer,Dryer,\"Smoke Detector\",\"First Aid Kit\",Essentials,Shampoo}                                                                                                                                                                                                                                   1\n",
       "{TV,Internet,\"Wireless Internet\",\"Air Conditioning\",\"Wheelchair Accessible\",Kitchen,\"Free Parking on Premises\",Heating,\"Family/Kid Friendly\",Washer,Dryer,\"First Aid Kit\",\"Safety Card\",Essentials,Shampoo,Hangers,\"Hair Dryer\",\"Laptop Friendly Workspace\"}                                                                                                                                                           1\n",
       "{TV,\"Cable TV\",Internet,\"Wireless Internet\",Kitchen,\"Free Parking on Premises\",\"Indoor Fireplace\",Heating,Washer,Dryer,\"Smoke Detector\",\"Carbon Monoxide Detector\",\"First Aid Kit\",\"Safety Card\",Essentials,Shampoo}                                                                                                                                                                                                   1\n",
       "{TV,\"Wireless Internet\",\"Air Conditioning\",Kitchen,\"Free Parking on Premises\",\"Hot Tub\",\"Family/Kid Friendly\",Washer,Dryer,\"Smoke Detector\",\"Carbon Monoxide Detector\",\"First Aid Kit\",\"Fire Extinguisher\",Essentials,Shampoo}                                                                                                                                                                                         1\n",
       "{Internet,\"Wireless Internet\",\"Air Conditioning\",Kitchen,Breakfast,\"Pets live on this property\",Dog(s),Heating,Washer,Dryer,Essentials,Shampoo}                                                                                                                                                                                                                                                                        1\n",
       "{TV,Internet,\"Wireless Internet\",Kitchen,\"Pets live on this property\",Cat(s),Heating,\"Family/Kid Friendly\",\"Smoke Detector\",\"Carbon Monoxide Detector\",\"First Aid Kit\",\"Safety Card\",Essentials,Shampoo}                                                                                                                                                                                                               1\n",
       "{TV,\"Cable TV\",Internet,\"Wireless Internet\",Kitchen,\"Free Parking on Premises\",\"Indoor Fireplace\",Heating,\"Family/Kid Friendly\",Washer,Dryer,\"Smoke Detector\",\"Carbon Monoxide Detector\",\"First Aid Kit\",\"Safety Card\",\"Fire Extinguisher\",Essentials,Shampoo,\"Hair Dryer\",Iron,\"Laptop Friendly Workspace\"}                                                                                                           1\n",
       "{TV,\"Cable TV\",Internet,\"Wireless Internet\",\"Air Conditioning\",Kitchen,Doorman,\"Elevator in Building\",\"Buzzer/Wireless Intercom\",Heating,Washer,Dryer,\"Smoke Detector\",Essentials,Shampoo}                                                                                                                                                                                                                             1\n",
       "{Kitchen,\"Pets Allowed\",Heating,\"Family/Kid Friendly\",Washer,Dryer,\"Smoke Detector\",\"First Aid Kit\",\"Safety Card\",\"Fire Extinguisher\",Essentials,Shampoo,Hangers,\"Hair Dryer\",Iron,\"Laptop Friendly Workspace\"}                                                                                                                                                                                                        1\n",
       "{\"Cable TV\",Internet,\"Wireless Internet\",Kitchen,\"Free Parking on Premises\",Heating,\"Family/Kid Friendly\",\"Smoke Detector\",\"Carbon Monoxide Detector\",\"Fire Extinguisher\",Shampoo}                                                                                                                                                                                                                                     1\n",
       "{\"Wireless Internet\",Kitchen,\"Smoking Allowed\",Breakfast,\"Pets live on this property\",Cat(s),Heating,\"Suitable for Events\",Washer,Dryer,\"Smoke Detector\",\"First Aid Kit\",\"Fire Extinguisher\",Shampoo}                                                                                                                                                                                                                  1\n",
       "{Internet,\"Wireless Internet\",Kitchen,Heating,Washer,Dryer,\"Smoke Detector\",\"First Aid Kit\",\"Fire Extinguisher\",Essentials,Shampoo,\"24-Hour Check-in\",\"Hair Dryer\",Iron,\"Laptop Friendly Workspace\"}                                                                                                                                                                                                                   1\n",
       "{TV,\"Cable TV\",Internet,\"Wireless Internet\",Kitchen,\"Free Parking on Premises\",Cat(s),\"Indoor Fireplace\",Heating,\"Family/Kid Friendly\",Washer,Dryer,\"Smoke Detector\",\"Carbon Monoxide Detector\",\"First Aid Kit\",\"Safety Card\",\"Fire Extinguisher\",Essentials,Shampoo,\"24-Hour Check-in\",Hangers,\"Hair Dryer\",\"Laptop Friendly Workspace\"}                                                                              1\n",
       "{TV,\"Cable TV\",Internet,\"Wireless Internet\",\"Wheelchair Accessible\",Kitchen,\"Pets Allowed\",\"Indoor Fireplace\",Heating,\"Suitable for Events\",Washer,Dryer,\"Smoke Detector\",\"Carbon Monoxide Detector\",\"First Aid Kit\",\"Safety Card\",\"Fire Extinguisher\",Essentials,Shampoo}                                                                                                                                             1\n",
       "{TV,\"Cable TV\",Internet,\"Wireless Internet\",Kitchen,\"Pets live on this property\",Dog(s),\"Elevator in Building\",\"Indoor Fireplace\",Heating,\"Family/Kid Friendly\",Washer,Dryer,\"Smoke Detector\",\"Carbon Monoxide Detector\",\"First Aid Kit\",\"Safety Card\",\"Fire Extinguisher\",Essentials,Shampoo}                                                                                                                         1\n",
       "{TV,\"Cable TV\",Internet,\"Wireless Internet\",\"Air Conditioning\",Kitchen,\"Free Parking on Premises\",\"Smoking Allowed\",Breakfast,\"Indoor Fireplace\",Heating,Washer,Dryer,\"Smoke Detector\",\"Carbon Monoxide Detector\",\"First Aid Kit\",\"Safety Card\",\"Fire Extinguisher\",Essentials,Shampoo,\"24-Hour Check-in\",Hangers,\"Hair Dryer\",Iron,\"Laptop Friendly Workspace\"}                                                       1\n",
       "{TV,Internet,\"Wireless Internet\",\"Air Conditioning\",Kitchen,Gym,\"Elevator in Building\",Heating,Washer,Dryer,\"Smoke Detector\",\"Carbon Monoxide Detector\",\"Fire Extinguisher\",Shampoo}                                                                                                                                                                                                                                   1\n",
       "{TV,\"Cable TV\",Internet,\"Wireless Internet\",\"Free Parking on Premises\",\"Hot Tub\",Heating,\"Family/Kid Friendly\",\"Smoke Detector\",\"Carbon Monoxide Detector\",\"First Aid Kit\",\"Fire Extinguisher\",Essentials,Shampoo,\"24-Hour Check-in\",Hangers,\"Hair Dryer\",Iron,\"Laptop Friendly Workspace\"}                                                                                                                            1\n",
       "{Internet,\"Wireless Internet\",\"Air Conditioning\",\"Wheelchair Accessible\",Kitchen,\"Free Parking on Premises\",Doorman,Gym,\"Elevator in Building\",\"Hot Tub\",\"Buzzer/Wireless Intercom\",Heating,\"Family/Kid Friendly\",Dryer,\"Smoke Detector\",\"Carbon Monoxide Detector\",\"First Aid Kit\",\"Safety Card\",\"Fire Extinguisher\",Essentials,Shampoo,\"24-Hour Check-in\",Hangers,\"Hair Dryer\",Iron,\"Laptop Friendly Workspace\"}     1\n",
       "{TV,\"Cable TV\",Internet,\"Wireless Internet\",Pool,Kitchen,\"Pets Allowed\",Gym,\"Pets live on this property\",Dog(s),Cat(s),\"Elevator in Building\",\"Hot Tub\",Heating,\"Family/Kid Friendly\",Washer,Dryer,Essentials,\"24-Hour Check-in\",Hangers,\"Laptop Friendly Workspace\"}                                                                                                                                                  1\n",
       "{Internet,\"Wireless Internet\",Kitchen,\"Free Parking on Premises\",\"Pets Allowed\",\"Pets live on this property\",Heating,\"Family/Kid Friendly\",\"Smoke Detector\",\"Fire Extinguisher\",Essentials,Shampoo}                                                                                                                                                                                                                    1\n",
       "{\"Wireless Internet\",Kitchen,\"Pets live on this property\",Cat(s),Heating,Washer,Dryer}                                                                                                                                                                                                                                                                                                                                 1\n",
       "{TV,\"Cable TV\",Internet,\"Wireless Internet\",Kitchen,\"Free Parking on Premises\",\"Pets Allowed\",\"Indoor Fireplace\",Heating,\"Family/Kid Friendly\",Washer,Dryer,\"Smoke Detector\",\"Carbon Monoxide Detector\",\"First Aid Kit\",Essentials,Shampoo}                                                                                                                                                                            1\n",
       "{TV,\"Cable TV\",Internet,\"Wireless Internet\",\"Air Conditioning\",Kitchen,\"Free Parking on Premises\",\"Pets Allowed\",\"Elevator in Building\",Heating,\"Family/Kid Friendly\",Washer,Dryer,\"Smoke Detector\",\"Carbon Monoxide Detector\",\"First Aid Kit\",\"Fire Extinguisher\",Essentials,Shampoo}                                                                                                                                 1\n",
       "{\"Cable TV\",Internet,\"Wireless Internet\",Kitchen,\"Pets live on this property\",Cat(s),\"Smoke Detector\",Essentials}                                                                                                                                                                                                                                                                                                      1\n",
       "{TV,Internet,\"Wireless Internet\",Kitchen,\"Free Parking on Premises\",Gym,\"Elevator in Building\",\"Hot Tub\",Heating,\"Family/Kid Friendly\",Washer,Dryer,\"Smoke Detector\",Essentials,Shampoo}                                                                                                                                                                                                                               1\n",
       "{TV,Internet,\"Wireless Internet\",Kitchen,Heating,\"Family/Kid Friendly\",\"Smoke Detector\",\"Carbon Monoxide Detector\",\"Safety Card\",\"Fire Extinguisher\",Essentials}                                                                                                                                                                                                                                                       1\n",
       "{TV,\"Cable TV\",\"Wireless Internet\",\"Air Conditioning\",Kitchen,\"Pets live on this property\",Cat(s),\"Hot Tub\",Heating,\"Family/Kid Friendly\",\"Smoke Detector\",\"Carbon Monoxide Detector\",Essentials,Shampoo}                                                                                                                                                                                                              1\n",
       "Name: amenities, Length: 3284, dtype: int64"
      ]
     },
     "execution_count": 52,
     "metadata": {},
     "output_type": "execute_result"
    }
   ],
   "source": [
    "# getting bed_type values count\n",
    "df_listings.amenities.value_counts()"
   ]
  },
  {
   "cell_type": "markdown",
   "metadata": {},
   "source": [
    "    As amenities column has is a multi valued colunms will convert it to a multiple binary columns that rupresnt if the listing has the this amenity. \n",
    "    \n",
    "    First will extract the unique amenities listings values"
   ]
  },
  {
   "cell_type": "code",
   "execution_count": 53,
   "metadata": {},
   "outputs": [
    {
     "name": "stdout",
     "output_type": "stream",
     "text": [
      "The unique amenities listings values are: \n",
      " ['TV', 'Cable TV', 'Internet', 'Wireless Internet', 'Air Conditioning', 'Kitchen', 'Heating', 'Family/Kid Friendly', 'Washer', 'Dryer', 'Free Parking on Premises', 'Buzzer/Wireless Intercom', 'Smoke Detector', 'Carbon Monoxide Detector', 'First Aid Kit', 'Safety Card', 'Fire Extinguisher', 'Essentials', 'Pets Allowed', 'Pets live on this property', 'Dog(s)', 'Cat(s)', 'Hot Tub', 'Indoor Fireplace', 'Shampoo', 'Breakfast', '24-Hour Check-in', 'Hangers', 'Hair Dryer', 'Iron', 'Laptop Friendly Workspace', 'Suitable for Events', 'Elevator in Building', 'Lock on Bedroom Door', 'Wheelchair Accessible', 'Gym', '', 'Pool', 'Smoking Allowed', 'Other pet(s)', 'Doorman', 'Washer / Dryer']\n"
     ]
    }
   ],
   "source": [
    "# defining the list that will contain unique amenities listings values\n",
    "amenities_values = []\n",
    "\n",
    "# the funstion the will handle extracting amenities values\n",
    "def extract_amenities_values(amenity):\n",
    "    amenities = amenity.replace('{','').replace('}','').replace('\"','').split(',')\n",
    "    for amen in amenities:\n",
    "        if amen not in amenities_values:\n",
    "            amenities_values.append(amen) \n",
    "\n",
    "# applying extract_amenities_values on amenities column           \n",
    "df_listings.amenities.map(extract_amenities_values)\n",
    "print(\"The unique amenities listings values are: \\n\", amenities_values)"
   ]
  },
  {
   "cell_type": "markdown",
   "metadata": {},
   "source": [
    "    Now we will group related amenities, collect the values for each row and add the columns to df_listings"
   ]
  },
  {
   "cell_type": "code",
   "execution_count": 54,
   "metadata": {},
   "outputs": [
    {
     "name": "stdout",
     "output_type": "stream",
     "text": [
      "\n",
      "Number of colmns before dropping amenities colum:  76\n",
      "\n",
      "Number of colmns after dropping amenities colum:  75\n"
     ]
    }
   ],
   "source": [
    "# grouping related amenities values \n",
    "amenities_keywords = {'TV': ['TV'],\n",
    " 'Internet': ['Internet'],\n",
    " 'Air_Conditioning': ['Air Conditioning'],\n",
    " 'Kitchen': ['Kitchen'],\n",
    " 'Heating': ['Heating'],\n",
    " 'Family_Kid_Friendly': ['Family/Kid Friendly'],\n",
    " 'Washer': ['Washer'],\n",
    " 'Dryer': ['Dryer'],\n",
    " 'Free_Parking_on_Premises': ['Free Parking on Premises'],\n",
    " 'Buzzer_Wireless_Intercom': ['Buzzer/Wireless Intercom'],\n",
    " 'Smoke_Detector': ['Smoke Detector'],\n",
    " 'Carbon_Monoxide_Detector': ['Carbon Monoxide Detector'],\n",
    " 'First_Aid_Kit': ['First Aid Kit'],\n",
    " 'Safety_Card': ['Safety Card'],\n",
    " 'Fire_Extinguisher': ['Fire Extinguisher'],\n",
    " 'Essentials': ['Essentials'],\n",
    " 'Pets_Allowed': ['Pets','Dog(s)','pets','Cat(s)'],\n",
    " 'Hot_Tub': ['Hot Tub'],\n",
    " 'Indoor_Fireplace': ['Indoor Fireplace'],\n",
    " 'Shampoo': ['Shampoo'],\n",
    " 'Breakfast': ['Breakfast'],\n",
    " '24_Hour_Check_in': ['24-Hour Check-in'],\n",
    " 'Hangers': ['Hangers'],\n",
    " 'Hair_Dryer': ['Hair Dryer'],\n",
    " 'Iron': ['Iron'],\n",
    " 'Laptop_Friendly_Workspace': ['Laptop Friendly Workspace'],\n",
    " 'Suitable_for_Events': ['Suitable for Events'],\n",
    " 'Elevator_in_Building': ['Elevator in Building'],\n",
    " 'Lock_on_Bedroom_Door': ['Lock on Bedroom Door'],\n",
    " 'Wheelchair_Accessible': ['Wheelchair Accessible'],\n",
    " 'Gym': ['Gym'],\n",
    " 'Pool': ['Pool'],\n",
    " 'Smoking_Allowed': ['Smoking Allowed'],\n",
    " 'Doorman': ['Doorman']}\n",
    "\n",
    "# to get the flags value of diffrent amenities of an AirBnB listings\n",
    "amenities_values = {'TV': [],\n",
    " 'Internet': [],\n",
    " 'Air_Conditioning': [],\n",
    " 'Kitchen': [],\n",
    " 'Heating': [],\n",
    " 'Family_Kid_Friendly': [],\n",
    " 'Washer': [],\n",
    " 'Dryer': [],\n",
    " 'Free_Parking_on_Premises': [],\n",
    " 'Buzzer_Wireless_Intercom': [],\n",
    " 'Smoke_Detector': [],\n",
    " 'Carbon_Monoxide_Detector': [],\n",
    " 'First_Aid_Kit': [],\n",
    " 'Safety_Card': [],\n",
    " 'Fire_Extinguisher': [],\n",
    " 'Essentials': [],\n",
    " 'Pets_Allowed': [],\n",
    " 'Hot_Tub': [],\n",
    " 'Indoor_Fireplace': [],\n",
    " 'Shampoo': [],\n",
    " 'Breakfast': [],\n",
    " '24_Hour_Check_in': [],\n",
    " 'Hangers': [],\n",
    " 'Hair_Dryer': [],\n",
    " 'Iron': [],\n",
    " 'Laptop_Friendly_Workspace': [],\n",
    " 'Suitable_for_Events': [],\n",
    " 'Elevator_in_Building': [],\n",
    " 'Lock_on_Bedroom_Door': [],\n",
    " 'Wheelchair_Accessible': [],\n",
    " 'Gym': [],\n",
    " 'Pool': [],\n",
    " 'Smoking_Allowed': [],\n",
    " 'Doorman': []}\n",
    "\n",
    "# define a fuction to get the flags value of diffrent amenities of an AirBnB listings\n",
    "def get_amenities_colunms_values(amenity):\n",
    "    for amenities in amenities_keywords.keys():\n",
    "        for keyword in  amenities_keywords[amenities]:\n",
    "            if keyword in amenity:\n",
    "                flag = 1\n",
    "                break\n",
    "            else:\n",
    "                flag = 0\n",
    "        amenities_values[amenities].append(flag)\n",
    "        \n",
    "# apply funtion on amenities column        \n",
    "x = df_listings.amenities.map(get_amenities_colunms_values)\n",
    "\n",
    "# add amenities_values as columns to df_listings\n",
    "for amenity in amenities_values.keys():\n",
    "    df_listings[amenity] = amenities_values[amenity]\n",
    "    \n",
    "# drop amenities column\n",
    "print(\"\\nNumber of colmns before dropping amenities colum: \", df_listings.shape[1])\n",
    "df_listings.drop('amenities',axis=1, inplace= True)\n",
    "print(\"\\nNumber of colmns after dropping amenities colum: \", df_listings.shape[1])"
   ]
  },
  {
   "cell_type": "code",
   "execution_count": 55,
   "metadata": {},
   "outputs": [
    {
     "data": {
      "text/plain": [
       "['property_type',\n",
       " 'room_type',\n",
       " 'calendar_updated',\n",
       " 'first_review',\n",
       " 'last_review',\n",
       " 'cancellation_policy']"
      ]
     },
     "execution_count": 55,
     "metadata": {},
     "output_type": "execute_result"
    }
   ],
   "source": [
    "['property_type',\n",
    " 'room_type',\n",
    " 'calendar_updated',\n",
    " 'first_review',\n",
    " 'last_review',\n",
    " 'cancellation_policy']"
   ]
  },
  {
   "cell_type": "markdown",
   "metadata": {},
   "source": [
    "- Let's handle property_type column:\n",
    "        let's see the value counts of property_type"
   ]
  },
  {
   "cell_type": "code",
   "execution_count": 56,
   "metadata": {},
   "outputs": [
    {
     "data": {
      "text/plain": [
       "House              1733\n",
       "Apartment          1708\n",
       "Townhouse           118\n",
       "Condominium          91\n",
       "Loft                 40\n",
       "Bed & Breakfast      37\n",
       "Other                22\n",
       "Cabin                21\n",
       "Camper/RV            13\n",
       "Bungalow             13\n",
       "Boat                  8\n",
       "Tent                  5\n",
       "Treehouse             3\n",
       "Chalet                2\n",
       "Dorm                  2\n",
       "Yurt                  1\n",
       "Name: property_type, dtype: int64"
      ]
     },
     "execution_count": 56,
     "metadata": {},
     "output_type": "execute_result"
    }
   ],
   "source": [
    "df_listings.property_type.value_counts()"
   ]
  },
  {
   "cell_type": "markdown",
   "metadata": {},
   "source": [
    "     Form what we can see above we can convert values less popular (with count 13 and below) property types to \n",
    "     Other."
   ]
  },
  {
   "cell_type": "code",
   "execution_count": 57,
   "metadata": {},
   "outputs": [
    {
     "data": {
      "text/plain": [
       "House              1733\n",
       "Apartment          1708\n",
       "Townhouse           118\n",
       "Condominium          91\n",
       "Other                69\n",
       "Loft                 40\n",
       "Bed & Breakfast      37\n",
       "Cabin                21\n",
       "Name: property_type, dtype: int64"
      ]
     },
     "execution_count": 57,
     "metadata": {},
     "output_type": "execute_result"
    }
   ],
   "source": [
    "# list roperty_type values that will be  converted to Other\n",
    "converted_to_other_property_type = ['Camper/RV','Bungalow','Boat','Tent','Treehouse','Dorm', 'Chalet','Yurt']\n",
    "\n",
    "#  \n",
    "def converte_to_other_property_type(property_type):\n",
    "        return 'Other' if (property_type in converted_to_other_property_type ) else property_type \n",
    "\n",
    "# create new column with new has_real_bed values\n",
    "df_listings['property_type'] = df_listings.property_type.map(converte_to_other_property_type)\n",
    "\n",
    "# display property_type value counts after conversion\n",
    "df_listings.property_type.value_counts()"
   ]
  },
  {
   "cell_type": "markdown",
   "metadata": {},
   "source": [
    "    Now we can use get_dummies to convert the property_type into multipule binary colunms of property_type values"
   ]
  },
  {
   "cell_type": "code",
   "execution_count": 58,
   "metadata": {},
   "outputs": [
    {
     "name": "stdout",
     "output_type": "stream",
     "text": [
      "\n",
      "Number of colmns before dropping property_type column:  75\n",
      "\n",
      "Number of colmns after dropping property_type column:  82\n",
      "<class 'pandas.core.frame.DataFrame'>\n",
      "RangeIndex: 3818 entries, 0 to 3817\n",
      "Data columns (total 82 columns):\n",
      "host_response_rate                  3295 non-null float64\n",
      "host_acceptance_rate                3045 non-null float64\n",
      "host_is_superhost                   3818 non-null int64\n",
      "host_total_listings_count           3816 non-null float64\n",
      "host_identity_verified              3818 non-null int64\n",
      "is_location_exact                   3818 non-null int64\n",
      "room_type                           3818 non-null object\n",
      "accommodates                        3818 non-null int64\n",
      "bathrooms                           3802 non-null float64\n",
      "bedrooms                            3812 non-null float64\n",
      "beds                                3817 non-null float64\n",
      "price                               3818 non-null float64\n",
      "security_deposit                    1866 non-null float64\n",
      "cleaning_fee                        2788 non-null float64\n",
      "guests_included                     3818 non-null int64\n",
      "extra_people                        3818 non-null float64\n",
      "minimum_nights                      3818 non-null int64\n",
      "maximum_nights                      3818 non-null int64\n",
      "calendar_updated                    3818 non-null object\n",
      "availability_30                     3818 non-null int64\n",
      "availability_60                     3818 non-null int64\n",
      "availability_90                     3818 non-null int64\n",
      "availability_365                    3818 non-null int64\n",
      "number_of_reviews                   3818 non-null int64\n",
      "first_review                        3191 non-null object\n",
      "last_review                         3191 non-null object\n",
      "review_scores_rating                3171 non-null float64\n",
      "review_scores_accuracy              3160 non-null float64\n",
      "review_scores_cleanliness           3165 non-null float64\n",
      "review_scores_checkin               3160 non-null float64\n",
      "review_scores_communication         3167 non-null float64\n",
      "review_scores_location              3163 non-null float64\n",
      "review_scores_value                 3162 non-null float64\n",
      "instant_bookable                    3818 non-null int64\n",
      "cancellation_policy                 3818 non-null object\n",
      "require_guest_profile_picture       3818 non-null int64\n",
      "require_guest_phone_verification    3818 non-null int64\n",
      "calculated_host_listings_count      3818 non-null int64\n",
      "reviews_per_month                   3191 non-null float64\n",
      "has_real_bed                        3818 non-null int64\n",
      "TV                                  3818 non-null int64\n",
      "Internet                            3818 non-null int64\n",
      "Air_Conditioning                    3818 non-null int64\n",
      "Kitchen                             3818 non-null int64\n",
      "Heating                             3818 non-null int64\n",
      "Family_Kid_Friendly                 3818 non-null int64\n",
      "Washer                              3818 non-null int64\n",
      "Dryer                               3818 non-null int64\n",
      "Free_Parking_on_Premises            3818 non-null int64\n",
      "Buzzer_Wireless_Intercom            3818 non-null int64\n",
      "Smoke_Detector                      3818 non-null int64\n",
      "Carbon_Monoxide_Detector            3818 non-null int64\n",
      "First_Aid_Kit                       3818 non-null int64\n",
      "Safety_Card                         3818 non-null int64\n",
      "Fire_Extinguisher                   3818 non-null int64\n",
      "Essentials                          3818 non-null int64\n",
      "Pets_Allowed                        3818 non-null int64\n",
      "Hot_Tub                             3818 non-null int64\n",
      "Indoor_Fireplace                    3818 non-null int64\n",
      "Shampoo                             3818 non-null int64\n",
      "Breakfast                           3818 non-null int64\n",
      "24_Hour_Check_in                    3818 non-null int64\n",
      "Hangers                             3818 non-null int64\n",
      "Hair_Dryer                          3818 non-null int64\n",
      "Iron                                3818 non-null int64\n",
      "Laptop_Friendly_Workspace           3818 non-null int64\n",
      "Suitable_for_Events                 3818 non-null int64\n",
      "Elevator_in_Building                3818 non-null int64\n",
      "Lock_on_Bedroom_Door                3818 non-null int64\n",
      "Wheelchair_Accessible               3818 non-null int64\n",
      "Gym                                 3818 non-null int64\n",
      "Pool                                3818 non-null int64\n",
      "Smoking_Allowed                     3818 non-null int64\n",
      "Doorman                             3818 non-null int64\n",
      "property_type_Apartment             3818 non-null uint8\n",
      "property_type_Bed & Breakfast       3818 non-null uint8\n",
      "property_type_Cabin                 3818 non-null uint8\n",
      "property_type_Condominium           3818 non-null uint8\n",
      "property_type_House                 3818 non-null uint8\n",
      "property_type_Loft                  3818 non-null uint8\n",
      "property_type_Other                 3818 non-null uint8\n",
      "property_type_Townhouse             3818 non-null uint8\n",
      "dtypes: float64(18), int64(51), object(5), uint8(8)\n",
      "memory usage: 2.2+ MB\n"
     ]
    }
   ],
   "source": [
    "\n",
    "# convert the room_type into multipule binary colunms of room_type values and add them to df_listings \n",
    "# with dropping room_type\n",
    "print(\"\\nNumber of colmns before dropping property_type column: \", df_listings.shape[1])\n",
    "df_listings = pd.concat([df_listings.drop('property_type',axis=1 ), pd.get_dummies(df_listings.property_type, prefix = \"property_type\", prefix_sep=\"_\" )],axis=1)\n",
    "print(\"\\nNumber of colmns after dropping property_type column: \", df_listings.shape[1])\n",
    "\n",
    "df_listings.info()\n"
   ]
  },
  {
   "cell_type": "markdown",
   "metadata": {},
   "source": [
    "- Let's handle room_type column:\n",
    "        let's see the value counts of room_type"
   ]
  },
  {
   "cell_type": "code",
   "execution_count": 59,
   "metadata": {},
   "outputs": [
    {
     "data": {
      "text/plain": [
       "Entire home/apt    2541\n",
       "Private room       1160\n",
       "Shared room         117\n",
       "Name: room_type, dtype: int64"
      ]
     },
     "execution_count": 59,
     "metadata": {},
     "output_type": "execute_result"
    }
   ],
   "source": [
    "df_listings.room_type.value_counts()"
   ]
  },
  {
   "cell_type": "markdown",
   "metadata": {},
   "source": [
    "    Now we can use get_dummies to convert the room_type into multipule binary colunms of room_type values"
   ]
  },
  {
   "cell_type": "code",
   "execution_count": 60,
   "metadata": {},
   "outputs": [
    {
     "name": "stdout",
     "output_type": "stream",
     "text": [
      "\n",
      "Number of colmns before dropping room_type column:  82\n",
      "\n",
      "Number of colmns after dropping room_type column:  84\n",
      "<class 'pandas.core.frame.DataFrame'>\n",
      "RangeIndex: 3818 entries, 0 to 3817\n",
      "Data columns (total 84 columns):\n",
      "host_response_rate                  3295 non-null float64\n",
      "host_acceptance_rate                3045 non-null float64\n",
      "host_is_superhost                   3818 non-null int64\n",
      "host_total_listings_count           3816 non-null float64\n",
      "host_identity_verified              3818 non-null int64\n",
      "is_location_exact                   3818 non-null int64\n",
      "accommodates                        3818 non-null int64\n",
      "bathrooms                           3802 non-null float64\n",
      "bedrooms                            3812 non-null float64\n",
      "beds                                3817 non-null float64\n",
      "price                               3818 non-null float64\n",
      "security_deposit                    1866 non-null float64\n",
      "cleaning_fee                        2788 non-null float64\n",
      "guests_included                     3818 non-null int64\n",
      "extra_people                        3818 non-null float64\n",
      "minimum_nights                      3818 non-null int64\n",
      "maximum_nights                      3818 non-null int64\n",
      "calendar_updated                    3818 non-null object\n",
      "availability_30                     3818 non-null int64\n",
      "availability_60                     3818 non-null int64\n",
      "availability_90                     3818 non-null int64\n",
      "availability_365                    3818 non-null int64\n",
      "number_of_reviews                   3818 non-null int64\n",
      "first_review                        3191 non-null object\n",
      "last_review                         3191 non-null object\n",
      "review_scores_rating                3171 non-null float64\n",
      "review_scores_accuracy              3160 non-null float64\n",
      "review_scores_cleanliness           3165 non-null float64\n",
      "review_scores_checkin               3160 non-null float64\n",
      "review_scores_communication         3167 non-null float64\n",
      "review_scores_location              3163 non-null float64\n",
      "review_scores_value                 3162 non-null float64\n",
      "instant_bookable                    3818 non-null int64\n",
      "cancellation_policy                 3818 non-null object\n",
      "require_guest_profile_picture       3818 non-null int64\n",
      "require_guest_phone_verification    3818 non-null int64\n",
      "calculated_host_listings_count      3818 non-null int64\n",
      "reviews_per_month                   3191 non-null float64\n",
      "has_real_bed                        3818 non-null int64\n",
      "TV                                  3818 non-null int64\n",
      "Internet                            3818 non-null int64\n",
      "Air_Conditioning                    3818 non-null int64\n",
      "Kitchen                             3818 non-null int64\n",
      "Heating                             3818 non-null int64\n",
      "Family_Kid_Friendly                 3818 non-null int64\n",
      "Washer                              3818 non-null int64\n",
      "Dryer                               3818 non-null int64\n",
      "Free_Parking_on_Premises            3818 non-null int64\n",
      "Buzzer_Wireless_Intercom            3818 non-null int64\n",
      "Smoke_Detector                      3818 non-null int64\n",
      "Carbon_Monoxide_Detector            3818 non-null int64\n",
      "First_Aid_Kit                       3818 non-null int64\n",
      "Safety_Card                         3818 non-null int64\n",
      "Fire_Extinguisher                   3818 non-null int64\n",
      "Essentials                          3818 non-null int64\n",
      "Pets_Allowed                        3818 non-null int64\n",
      "Hot_Tub                             3818 non-null int64\n",
      "Indoor_Fireplace                    3818 non-null int64\n",
      "Shampoo                             3818 non-null int64\n",
      "Breakfast                           3818 non-null int64\n",
      "24_Hour_Check_in                    3818 non-null int64\n",
      "Hangers                             3818 non-null int64\n",
      "Hair_Dryer                          3818 non-null int64\n",
      "Iron                                3818 non-null int64\n",
      "Laptop_Friendly_Workspace           3818 non-null int64\n",
      "Suitable_for_Events                 3818 non-null int64\n",
      "Elevator_in_Building                3818 non-null int64\n",
      "Lock_on_Bedroom_Door                3818 non-null int64\n",
      "Wheelchair_Accessible               3818 non-null int64\n",
      "Gym                                 3818 non-null int64\n",
      "Pool                                3818 non-null int64\n",
      "Smoking_Allowed                     3818 non-null int64\n",
      "Doorman                             3818 non-null int64\n",
      "property_type_Apartment             3818 non-null uint8\n",
      "property_type_Bed & Breakfast       3818 non-null uint8\n",
      "property_type_Cabin                 3818 non-null uint8\n",
      "property_type_Condominium           3818 non-null uint8\n",
      "property_type_House                 3818 non-null uint8\n",
      "property_type_Loft                  3818 non-null uint8\n",
      "property_type_Other                 3818 non-null uint8\n",
      "property_type_Townhouse             3818 non-null uint8\n",
      "room_type_Entire home/apt           3818 non-null uint8\n",
      "room_type_Private room              3818 non-null uint8\n",
      "room_type_Shared room               3818 non-null uint8\n",
      "dtypes: float64(18), int64(51), object(4), uint8(11)\n",
      "memory usage: 2.2+ MB\n"
     ]
    }
   ],
   "source": [
    "\n",
    "# convert the room_type into multipule binary colunms of room_type values and add them to df_listings \n",
    "# with dropping room_type\n",
    "print(\"\\nNumber of colmns before dropping room_type column: \", df_listings.shape[1])\n",
    "df_listings =  pd.concat([df_listings.drop('room_type',axis=1 ), pd.get_dummies(df_listings.room_type, prefix = \"room_type\", prefix_sep=\"_\" )],axis=1)\n",
    "print(\"\\nNumber of colmns after dropping room_type column: \", df_listings.shape[1])\n",
    "\n",
    "df_listings.info()\n"
   ]
  },
  {
   "cell_type": "markdown",
   "metadata": {},
   "source": [
    "- Let's handle cancellation_policy column:\n",
    "        let's see the value counts of cancellation_policy"
   ]
  },
  {
   "cell_type": "code",
   "execution_count": 61,
   "metadata": {},
   "outputs": [
    {
     "data": {
      "text/plain": [
       "strict      1417\n",
       "moderate    1251\n",
       "flexible    1150\n",
       "Name: cancellation_policy, dtype: int64"
      ]
     },
     "execution_count": 61,
     "metadata": {},
     "output_type": "execute_result"
    }
   ],
   "source": [
    "df_listings.cancellation_policy.value_counts()"
   ]
  },
  {
   "cell_type": "markdown",
   "metadata": {},
   "source": [
    "    - Now we can use get_dummies to convert the cancellation_policy into multipule binary colunms of \n",
    "    cancellation_policy values"
   ]
  },
  {
   "cell_type": "code",
   "execution_count": 62,
   "metadata": {},
   "outputs": [
    {
     "name": "stdout",
     "output_type": "stream",
     "text": [
      "\n",
      "Number of colmns before dropping cancellation_policy column:  84\n",
      "\n",
      "Number of colmns after dropping cancellation_policy column:  86\n",
      "<class 'pandas.core.frame.DataFrame'>\n",
      "RangeIndex: 3818 entries, 0 to 3817\n",
      "Data columns (total 86 columns):\n",
      "host_response_rate                  3295 non-null float64\n",
      "host_acceptance_rate                3045 non-null float64\n",
      "host_is_superhost                   3818 non-null int64\n",
      "host_total_listings_count           3816 non-null float64\n",
      "host_identity_verified              3818 non-null int64\n",
      "is_location_exact                   3818 non-null int64\n",
      "accommodates                        3818 non-null int64\n",
      "bathrooms                           3802 non-null float64\n",
      "bedrooms                            3812 non-null float64\n",
      "beds                                3817 non-null float64\n",
      "price                               3818 non-null float64\n",
      "security_deposit                    1866 non-null float64\n",
      "cleaning_fee                        2788 non-null float64\n",
      "guests_included                     3818 non-null int64\n",
      "extra_people                        3818 non-null float64\n",
      "minimum_nights                      3818 non-null int64\n",
      "maximum_nights                      3818 non-null int64\n",
      "calendar_updated                    3818 non-null object\n",
      "availability_30                     3818 non-null int64\n",
      "availability_60                     3818 non-null int64\n",
      "availability_90                     3818 non-null int64\n",
      "availability_365                    3818 non-null int64\n",
      "number_of_reviews                   3818 non-null int64\n",
      "first_review                        3191 non-null object\n",
      "last_review                         3191 non-null object\n",
      "review_scores_rating                3171 non-null float64\n",
      "review_scores_accuracy              3160 non-null float64\n",
      "review_scores_cleanliness           3165 non-null float64\n",
      "review_scores_checkin               3160 non-null float64\n",
      "review_scores_communication         3167 non-null float64\n",
      "review_scores_location              3163 non-null float64\n",
      "review_scores_value                 3162 non-null float64\n",
      "instant_bookable                    3818 non-null int64\n",
      "require_guest_profile_picture       3818 non-null int64\n",
      "require_guest_phone_verification    3818 non-null int64\n",
      "calculated_host_listings_count      3818 non-null int64\n",
      "reviews_per_month                   3191 non-null float64\n",
      "has_real_bed                        3818 non-null int64\n",
      "TV                                  3818 non-null int64\n",
      "Internet                            3818 non-null int64\n",
      "Air_Conditioning                    3818 non-null int64\n",
      "Kitchen                             3818 non-null int64\n",
      "Heating                             3818 non-null int64\n",
      "Family_Kid_Friendly                 3818 non-null int64\n",
      "Washer                              3818 non-null int64\n",
      "Dryer                               3818 non-null int64\n",
      "Free_Parking_on_Premises            3818 non-null int64\n",
      "Buzzer_Wireless_Intercom            3818 non-null int64\n",
      "Smoke_Detector                      3818 non-null int64\n",
      "Carbon_Monoxide_Detector            3818 non-null int64\n",
      "First_Aid_Kit                       3818 non-null int64\n",
      "Safety_Card                         3818 non-null int64\n",
      "Fire_Extinguisher                   3818 non-null int64\n",
      "Essentials                          3818 non-null int64\n",
      "Pets_Allowed                        3818 non-null int64\n",
      "Hot_Tub                             3818 non-null int64\n",
      "Indoor_Fireplace                    3818 non-null int64\n",
      "Shampoo                             3818 non-null int64\n",
      "Breakfast                           3818 non-null int64\n",
      "24_Hour_Check_in                    3818 non-null int64\n",
      "Hangers                             3818 non-null int64\n",
      "Hair_Dryer                          3818 non-null int64\n",
      "Iron                                3818 non-null int64\n",
      "Laptop_Friendly_Workspace           3818 non-null int64\n",
      "Suitable_for_Events                 3818 non-null int64\n",
      "Elevator_in_Building                3818 non-null int64\n",
      "Lock_on_Bedroom_Door                3818 non-null int64\n",
      "Wheelchair_Accessible               3818 non-null int64\n",
      "Gym                                 3818 non-null int64\n",
      "Pool                                3818 non-null int64\n",
      "Smoking_Allowed                     3818 non-null int64\n",
      "Doorman                             3818 non-null int64\n",
      "property_type_Apartment             3818 non-null uint8\n",
      "property_type_Bed & Breakfast       3818 non-null uint8\n",
      "property_type_Cabin                 3818 non-null uint8\n",
      "property_type_Condominium           3818 non-null uint8\n",
      "property_type_House                 3818 non-null uint8\n",
      "property_type_Loft                  3818 non-null uint8\n",
      "property_type_Other                 3818 non-null uint8\n",
      "property_type_Townhouse             3818 non-null uint8\n",
      "room_type_Entire home/apt           3818 non-null uint8\n",
      "room_type_Private room              3818 non-null uint8\n",
      "room_type_Shared room               3818 non-null uint8\n",
      "cancellation_policy_flexible        3818 non-null uint8\n",
      "cancellation_policy_moderate        3818 non-null uint8\n",
      "cancellation_policy_strict          3818 non-null uint8\n",
      "dtypes: float64(18), int64(51), object(3), uint8(14)\n",
      "memory usage: 2.1+ MB\n"
     ]
    }
   ],
   "source": [
    "\n",
    "# convert the cancellation_policy into multipule binary colunms of property_type values and add them to df_listings \n",
    "# with dropping cancellation_policy\n",
    "print(\"\\nNumber of colmns before dropping cancellation_policy column: \", df_listings.shape[1])\n",
    "df_listings =  pd.concat([df_listings.drop('cancellation_policy',axis=1  ), pd.get_dummies(df_listings.cancellation_policy, prefix = \"cancellation_policy\", prefix_sep=\"_\" )],axis=1)\n",
    "print(\"\\nNumber of colmns after dropping cancellation_policy column: \", df_listings.shape[1])\n",
    "\n",
    "df_listings.info()\n"
   ]
  },
  {
   "cell_type": "markdown",
   "metadata": {},
   "source": [
    "- Let's handle calendar_updated column:\n",
    "    \n",
    "        let's see the value counts of calendar_updated"
   ]
  },
  {
   "cell_type": "code",
   "execution_count": 63,
   "metadata": {},
   "outputs": [
    {
     "data": {
      "text/plain": [
       "today            706\n",
       "2 weeks ago      347\n",
       "3 weeks ago      300\n",
       "2 months ago     281\n",
       "a week ago       248\n",
       "yesterday        231\n",
       "3 months ago     218\n",
       "4 weeks ago      213\n",
       "3 days ago       162\n",
       "5 weeks ago      156\n",
       "4 days ago       145\n",
       "4 months ago     133\n",
       "5 days ago       132\n",
       "6 weeks ago      118\n",
       "2 days ago        96\n",
       "5 months ago      91\n",
       "7 weeks ago       63\n",
       "6 months ago      29\n",
       "6 days ago        28\n",
       "1 week ago        26\n",
       "never             24\n",
       "7 months ago      23\n",
       "8 months ago      14\n",
       "10 months ago      8\n",
       "9 months ago       7\n",
       "11 months ago      5\n",
       "12 months ago      5\n",
       "22 months ago      2\n",
       "13 months ago      2\n",
       "17 months ago      1\n",
       "16 months ago      1\n",
       "14 months ago      1\n",
       "15 months ago      1\n",
       "30 months ago      1\n",
       "Name: calendar_updated, dtype: int64"
      ]
     },
     "execution_count": 63,
     "metadata": {},
     "output_type": "execute_result"
    }
   ],
   "source": [
    "df_listings.calendar_updated.value_counts()"
   ]
  },
  {
   "cell_type": "markdown",
   "metadata": {},
   "source": [
    "    - After looking at the the calendar_updated column, we can generalize the vlaues as a binary value and assign 1 \n",
    "    to the rows where calendar_updated values that are 6 months or less "
   ]
  },
  {
   "cell_type": "code",
   "execution_count": 64,
   "metadata": {},
   "outputs": [
    {
     "name": "stdout",
     "output_type": "stream",
     "text": [
      "\n",
      "Number of colmns before dropping calendar_updated colunm:  87\n",
      "\n",
      "Number of colmns after dropping calendar_updated colunm:  86\n",
      "<class 'pandas.core.frame.DataFrame'>\n",
      "RangeIndex: 3818 entries, 0 to 3817\n",
      "Data columns (total 86 columns):\n",
      "host_response_rate                  3295 non-null float64\n",
      "host_acceptance_rate                3045 non-null float64\n",
      "host_is_superhost                   3818 non-null int64\n",
      "host_total_listings_count           3816 non-null float64\n",
      "host_identity_verified              3818 non-null int64\n",
      "is_location_exact                   3818 non-null int64\n",
      "accommodates                        3818 non-null int64\n",
      "bathrooms                           3802 non-null float64\n",
      "bedrooms                            3812 non-null float64\n",
      "beds                                3817 non-null float64\n",
      "price                               3818 non-null float64\n",
      "security_deposit                    1866 non-null float64\n",
      "cleaning_fee                        2788 non-null float64\n",
      "guests_included                     3818 non-null int64\n",
      "extra_people                        3818 non-null float64\n",
      "minimum_nights                      3818 non-null int64\n",
      "maximum_nights                      3818 non-null int64\n",
      "availability_30                     3818 non-null int64\n",
      "availability_60                     3818 non-null int64\n",
      "availability_90                     3818 non-null int64\n",
      "availability_365                    3818 non-null int64\n",
      "number_of_reviews                   3818 non-null int64\n",
      "first_review                        3191 non-null object\n",
      "last_review                         3191 non-null object\n",
      "review_scores_rating                3171 non-null float64\n",
      "review_scores_accuracy              3160 non-null float64\n",
      "review_scores_cleanliness           3165 non-null float64\n",
      "review_scores_checkin               3160 non-null float64\n",
      "review_scores_communication         3167 non-null float64\n",
      "review_scores_location              3163 non-null float64\n",
      "review_scores_value                 3162 non-null float64\n",
      "instant_bookable                    3818 non-null int64\n",
      "require_guest_profile_picture       3818 non-null int64\n",
      "require_guest_phone_verification    3818 non-null int64\n",
      "calculated_host_listings_count      3818 non-null int64\n",
      "reviews_per_month                   3191 non-null float64\n",
      "has_real_bed                        3818 non-null int64\n",
      "TV                                  3818 non-null int64\n",
      "Internet                            3818 non-null int64\n",
      "Air_Conditioning                    3818 non-null int64\n",
      "Kitchen                             3818 non-null int64\n",
      "Heating                             3818 non-null int64\n",
      "Family_Kid_Friendly                 3818 non-null int64\n",
      "Washer                              3818 non-null int64\n",
      "Dryer                               3818 non-null int64\n",
      "Free_Parking_on_Premises            3818 non-null int64\n",
      "Buzzer_Wireless_Intercom            3818 non-null int64\n",
      "Smoke_Detector                      3818 non-null int64\n",
      "Carbon_Monoxide_Detector            3818 non-null int64\n",
      "First_Aid_Kit                       3818 non-null int64\n",
      "Safety_Card                         3818 non-null int64\n",
      "Fire_Extinguisher                   3818 non-null int64\n",
      "Essentials                          3818 non-null int64\n",
      "Pets_Allowed                        3818 non-null int64\n",
      "Hot_Tub                             3818 non-null int64\n",
      "Indoor_Fireplace                    3818 non-null int64\n",
      "Shampoo                             3818 non-null int64\n",
      "Breakfast                           3818 non-null int64\n",
      "24_Hour_Check_in                    3818 non-null int64\n",
      "Hangers                             3818 non-null int64\n",
      "Hair_Dryer                          3818 non-null int64\n",
      "Iron                                3818 non-null int64\n",
      "Laptop_Friendly_Workspace           3818 non-null int64\n",
      "Suitable_for_Events                 3818 non-null int64\n",
      "Elevator_in_Building                3818 non-null int64\n",
      "Lock_on_Bedroom_Door                3818 non-null int64\n",
      "Wheelchair_Accessible               3818 non-null int64\n",
      "Gym                                 3818 non-null int64\n",
      "Pool                                3818 non-null int64\n",
      "Smoking_Allowed                     3818 non-null int64\n",
      "Doorman                             3818 non-null int64\n",
      "property_type_Apartment             3818 non-null uint8\n",
      "property_type_Bed & Breakfast       3818 non-null uint8\n",
      "property_type_Cabin                 3818 non-null uint8\n",
      "property_type_Condominium           3818 non-null uint8\n",
      "property_type_House                 3818 non-null uint8\n",
      "property_type_Loft                  3818 non-null uint8\n",
      "property_type_Other                 3818 non-null uint8\n",
      "property_type_Townhouse             3818 non-null uint8\n",
      "room_type_Entire home/apt           3818 non-null uint8\n",
      "room_type_Private room              3818 non-null uint8\n",
      "room_type_Shared room               3818 non-null uint8\n",
      "cancellation_policy_flexible        3818 non-null uint8\n",
      "cancellation_policy_moderate        3818 non-null uint8\n",
      "cancellation_policy_strict          3818 non-null uint8\n",
      "calendar_updated_in_6_month         3818 non-null int64\n",
      "dtypes: float64(18), int64(52), object(2), uint8(14)\n",
      "memory usage: 2.1+ MB\n"
     ]
    }
   ],
   "source": [
    "# list of calendar_updated in 6 months values\n",
    "calendar_updated_in_6_month_values = ['today','yesterday','2 days ago','3 days ago','4 days ago','5 days ago','6 days ago','a week ago','1 week ago','2 weeks ago','3 weeks ago','4 weeks ago','5 weeks ago','6 weeks ago','7 weeks ago','2 months ago','3 months ago','4 months ago','5 months ago','6 months ago']\n",
    "\n",
    "\n",
    "# convert bed_type to has_bed binary column \n",
    "def set_calendar_updated_in_6_month(calendar_updated):\n",
    "        return 1 if (calendar_updated in calendar_updated_in_6_month_values ) else 0\n",
    "\n",
    "# create new column with new has_real_bed values\n",
    "df_listings['calendar_updated_in_6_month'] = df_listings.calendar_updated.map(set_calendar_updated_in_6_month)\n",
    "\n",
    "#drop bed_type column \n",
    "print(\"\\nNumber of colmns before dropping calendar_updated colunm: \", df_listings.shape[1])\n",
    "df_listings.drop('calendar_updated',axis=1, inplace= True)\n",
    "print(\"\\nNumber of colmns after dropping calendar_updated colunm: \", df_listings.shape[1])\n",
    "\n",
    "\n",
    "df_listings.info()"
   ]
  },
  {
   "cell_type": "markdown",
   "metadata": {},
   "source": [
    "- Let's handle first_review and last_review columns:\n",
    "    \n",
    "        let's see the value counts of first_review and last_review"
   ]
  },
  {
   "cell_type": "code",
   "execution_count": 65,
   "metadata": {},
   "outputs": [
    {
     "data": {
      "text/plain": [
       "2015-09-21    25\n",
       "2015-12-01    22\n",
       "2015-07-27    22\n",
       "2015-06-14    21\n",
       "2015-08-23    20\n",
       "2015-11-29    20\n",
       "2015-08-31    20\n",
       "2015-08-30    19\n",
       "2015-09-07    19\n",
       "2015-08-16    19\n",
       "2015-08-03    18\n",
       "2015-08-10    17\n",
       "2015-08-07    17\n",
       "2015-06-15    17\n",
       "2015-09-27    16\n",
       "2015-05-25    15\n",
       "2015-07-26    15\n",
       "2015-07-06    15\n",
       "2015-08-08    14\n",
       "2015-06-21    14\n",
       "2015-03-29    14\n",
       "2015-09-28    14\n",
       "2014-07-22    14\n",
       "2015-05-19    14\n",
       "2015-12-14    13\n",
       "2015-10-19    13\n",
       "2015-07-12    13\n",
       "2015-08-09    13\n",
       "2015-11-16    13\n",
       "2015-07-20    13\n",
       "              ..\n",
       "2014-10-10     1\n",
       "2015-04-10     1\n",
       "2010-08-02     1\n",
       "2015-03-20     1\n",
       "2012-02-28     1\n",
       "2015-03-04     1\n",
       "2013-07-29     1\n",
       "2010-12-24     1\n",
       "2014-11-21     1\n",
       "2015-03-11     1\n",
       "2011-01-18     1\n",
       "2013-07-04     1\n",
       "2013-10-30     1\n",
       "2011-11-01     1\n",
       "2013-03-26     1\n",
       "2015-01-27     1\n",
       "2015-12-03     1\n",
       "2013-01-25     1\n",
       "2013-08-02     1\n",
       "2011-04-20     1\n",
       "2015-04-23     1\n",
       "2010-09-01     1\n",
       "2012-05-04     1\n",
       "2012-10-21     1\n",
       "2014-11-22     1\n",
       "2012-09-24     1\n",
       "2014-07-31     1\n",
       "2012-05-15     1\n",
       "2014-12-23     1\n",
       "2014-09-18     1\n",
       "Name: first_review, Length: 984, dtype: int64"
      ]
     },
     "execution_count": 65,
     "metadata": {},
     "output_type": "execute_result"
    }
   ],
   "source": [
    "# value counts of first_review\n",
    "df_listings.first_review.value_counts()"
   ]
  },
  {
   "cell_type": "code",
   "execution_count": 66,
   "metadata": {},
   "outputs": [
    {
     "data": {
      "text/plain": [
       "2016-01-02    94\n",
       "2015-12-01    90\n",
       "2015-11-29    90\n",
       "2016-01-01    87\n",
       "2015-12-30    77\n",
       "2015-12-20    76\n",
       "2015-12-29    75\n",
       "2015-12-28    61\n",
       "2015-12-31    58\n",
       "2015-12-21    55\n",
       "2015-12-14    52\n",
       "2015-12-22    52\n",
       "2015-12-27    51\n",
       "2015-12-13    45\n",
       "2015-12-26    45\n",
       "2015-10-19    42\n",
       "2015-12-23    42\n",
       "2015-11-28    39\n",
       "2015-12-06    38\n",
       "2016-01-03    36\n",
       "2015-12-24    34\n",
       "2015-09-28    33\n",
       "2015-12-16    32\n",
       "2015-12-18    32\n",
       "2015-12-19    32\n",
       "2015-12-15    31\n",
       "2015-11-25    31\n",
       "2015-09-01    30\n",
       "2015-12-12    30\n",
       "2015-11-23    29\n",
       "              ..\n",
       "2015-07-11     1\n",
       "2015-03-23     1\n",
       "2013-10-17     1\n",
       "2013-08-19     1\n",
       "2014-10-18     1\n",
       "2014-09-03     1\n",
       "2015-03-29     1\n",
       "2015-04-13     1\n",
       "2015-07-24     1\n",
       "2015-07-04     1\n",
       "2015-03-05     1\n",
       "2015-07-03     1\n",
       "2014-07-10     1\n",
       "2015-04-23     1\n",
       "2015-06-25     1\n",
       "2015-04-10     1\n",
       "2015-04-12     1\n",
       "2014-09-30     1\n",
       "2014-08-09     1\n",
       "2015-02-12     1\n",
       "2015-02-03     1\n",
       "2014-10-13     1\n",
       "2014-12-22     1\n",
       "2014-03-04     1\n",
       "2015-07-08     1\n",
       "2015-05-27     1\n",
       "2015-05-23     1\n",
       "2015-06-01     1\n",
       "2014-08-14     1\n",
       "2015-02-11     1\n",
       "Name: last_review, Length: 321, dtype: int64"
      ]
     },
     "execution_count": 66,
     "metadata": {},
     "output_type": "execute_result"
    }
   ],
   "source": [
    "# value counts of last_review\n",
    "df_listings.last_review.value_counts()"
   ]
  },
  {
   "cell_type": "markdown",
   "metadata": {},
   "source": [
    "        - To reduce the first_review and last_review columns value variablity we can remove the day and month from \n",
    "        the dates values"
   ]
  },
  {
   "cell_type": "code",
   "execution_count": 67,
   "metadata": {},
   "outputs": [
    {
     "name": "stdout",
     "output_type": "stream",
     "text": [
      "<class 'pandas.core.frame.DataFrame'>\n",
      "RangeIndex: 3818 entries, 0 to 3817\n",
      "Data columns (total 86 columns):\n",
      "host_response_rate                  3295 non-null float64\n",
      "host_acceptance_rate                3045 non-null float64\n",
      "host_is_superhost                   3818 non-null int64\n",
      "host_total_listings_count           3816 non-null float64\n",
      "host_identity_verified              3818 non-null int64\n",
      "is_location_exact                   3818 non-null int64\n",
      "accommodates                        3818 non-null int64\n",
      "bathrooms                           3802 non-null float64\n",
      "bedrooms                            3812 non-null float64\n",
      "beds                                3817 non-null float64\n",
      "price                               3818 non-null float64\n",
      "security_deposit                    1866 non-null float64\n",
      "cleaning_fee                        2788 non-null float64\n",
      "guests_included                     3818 non-null int64\n",
      "extra_people                        3818 non-null float64\n",
      "minimum_nights                      3818 non-null int64\n",
      "maximum_nights                      3818 non-null int64\n",
      "availability_30                     3818 non-null int64\n",
      "availability_60                     3818 non-null int64\n",
      "availability_90                     3818 non-null int64\n",
      "availability_365                    3818 non-null int64\n",
      "number_of_reviews                   3818 non-null int64\n",
      "first_review                        3818 non-null int64\n",
      "last_review                         3818 non-null int64\n",
      "review_scores_rating                3171 non-null float64\n",
      "review_scores_accuracy              3160 non-null float64\n",
      "review_scores_cleanliness           3165 non-null float64\n",
      "review_scores_checkin               3160 non-null float64\n",
      "review_scores_communication         3167 non-null float64\n",
      "review_scores_location              3163 non-null float64\n",
      "review_scores_value                 3162 non-null float64\n",
      "instant_bookable                    3818 non-null int64\n",
      "require_guest_profile_picture       3818 non-null int64\n",
      "require_guest_phone_verification    3818 non-null int64\n",
      "calculated_host_listings_count      3818 non-null int64\n",
      "reviews_per_month                   3191 non-null float64\n",
      "has_real_bed                        3818 non-null int64\n",
      "TV                                  3818 non-null int64\n",
      "Internet                            3818 non-null int64\n",
      "Air_Conditioning                    3818 non-null int64\n",
      "Kitchen                             3818 non-null int64\n",
      "Heating                             3818 non-null int64\n",
      "Family_Kid_Friendly                 3818 non-null int64\n",
      "Washer                              3818 non-null int64\n",
      "Dryer                               3818 non-null int64\n",
      "Free_Parking_on_Premises            3818 non-null int64\n",
      "Buzzer_Wireless_Intercom            3818 non-null int64\n",
      "Smoke_Detector                      3818 non-null int64\n",
      "Carbon_Monoxide_Detector            3818 non-null int64\n",
      "First_Aid_Kit                       3818 non-null int64\n",
      "Safety_Card                         3818 non-null int64\n",
      "Fire_Extinguisher                   3818 non-null int64\n",
      "Essentials                          3818 non-null int64\n",
      "Pets_Allowed                        3818 non-null int64\n",
      "Hot_Tub                             3818 non-null int64\n",
      "Indoor_Fireplace                    3818 non-null int64\n",
      "Shampoo                             3818 non-null int64\n",
      "Breakfast                           3818 non-null int64\n",
      "24_Hour_Check_in                    3818 non-null int64\n",
      "Hangers                             3818 non-null int64\n",
      "Hair_Dryer                          3818 non-null int64\n",
      "Iron                                3818 non-null int64\n",
      "Laptop_Friendly_Workspace           3818 non-null int64\n",
      "Suitable_for_Events                 3818 non-null int64\n",
      "Elevator_in_Building                3818 non-null int64\n",
      "Lock_on_Bedroom_Door                3818 non-null int64\n",
      "Wheelchair_Accessible               3818 non-null int64\n",
      "Gym                                 3818 non-null int64\n",
      "Pool                                3818 non-null int64\n",
      "Smoking_Allowed                     3818 non-null int64\n",
      "Doorman                             3818 non-null int64\n",
      "property_type_Apartment             3818 non-null uint8\n",
      "property_type_Bed & Breakfast       3818 non-null uint8\n",
      "property_type_Cabin                 3818 non-null uint8\n",
      "property_type_Condominium           3818 non-null uint8\n",
      "property_type_House                 3818 non-null uint8\n",
      "property_type_Loft                  3818 non-null uint8\n",
      "property_type_Other                 3818 non-null uint8\n",
      "property_type_Townhouse             3818 non-null uint8\n",
      "room_type_Entire home/apt           3818 non-null uint8\n",
      "room_type_Private room              3818 non-null uint8\n",
      "room_type_Shared room               3818 non-null uint8\n",
      "cancellation_policy_flexible        3818 non-null uint8\n",
      "cancellation_policy_moderate        3818 non-null uint8\n",
      "cancellation_policy_strict          3818 non-null uint8\n",
      "calendar_updated_in_6_month         3818 non-null int64\n",
      "dtypes: float64(18), int64(54), uint8(14)\n",
      "memory usage: 2.1 MB\n"
     ]
    }
   ],
   "source": [
    "# funtion to remove the day and month from the dates values\n",
    "def remove_day_and_month(date):\n",
    "    if pd.notna(date ):\n",
    "        return int(datetime.strptime(date, '%Y-%m-%d').year)\n",
    "    else:\n",
    "        return -1\n",
    "\n",
    "# apply  remove_day_and_month funtion on first_review and last_review columns   \n",
    "for col in ['first_review','last_review']:\n",
    "    df_listings[col] = df_listings[col].map(remove_day_and_month)\n",
    "\n",
    "\n",
    "df_listings.info()"
   ]
  },
  {
   "cell_type": "markdown",
   "metadata": {},
   "source": [
    "##### Filling columns missing values:\n",
    "    \n",
    "    lets take at columns with missing values and the counts of these missing values\n",
    "    "
   ]
  },
  {
   "cell_type": "code",
   "execution_count": 68,
   "metadata": {},
   "outputs": [
    {
     "name": "stdout",
     "output_type": "stream",
     "text": [
      "host_response_rate 523\n",
      "host_acceptance_rate 773\n",
      "host_total_listings_count 2\n",
      "bathrooms 16\n",
      "bedrooms 6\n",
      "beds 1\n",
      "security_deposit 1952\n",
      "cleaning_fee 1030\n",
      "review_scores_rating 647\n",
      "review_scores_accuracy 658\n",
      "review_scores_cleanliness 653\n",
      "review_scores_checkin 658\n",
      "review_scores_communication 651\n",
      "review_scores_location 655\n",
      "review_scores_value 656\n",
      "reviews_per_month 627\n",
      "\n",
      "Columns with missing values are: \n",
      " ['host_response_rate', 'host_acceptance_rate', 'host_total_listings_count', 'bathrooms', 'bedrooms', 'beds', 'security_deposit', 'cleaning_fee', 'review_scores_rating', 'review_scores_accuracy', 'review_scores_cleanliness', 'review_scores_checkin', 'review_scores_communication', 'review_scores_location', 'review_scores_value', 'reviews_per_month']\n"
     ]
    }
   ],
   "source": [
    "# list that will store name of columns with missing values\n",
    "columns_with_missing_data = []\n",
    "\n",
    "# display columns with missing values and the counts of these missing values\n",
    "for col in df_listings.columns:\n",
    "    if df_listings[col].isnull().mean() > 0:\n",
    "        columns_with_missing_data.append(col)\n",
    "        print(col,df_listings[col].isnull().sum())\n",
    "        \n",
    "print( '\\nColumns with missing values are: \\n', columns_with_missing_data)\n",
    "        "
   ]
  },
  {
   "cell_type": "markdown",
   "metadata": {},
   "source": [
    "    - we will replace missing values with -1."
   ]
  },
  {
   "cell_type": "code",
   "execution_count": 69,
   "metadata": {},
   "outputs": [
    {
     "name": "stdout",
     "output_type": "stream",
     "text": [
      "\n",
      "Number of colunms with missing values before filling with -1 :  16\n",
      "\n",
      "Number of colunms with missing values after filling with -1 :  0\n"
     ]
    }
   ],
   "source": [
    "# replace missing value with -1.\n",
    "print(\"\\nNumber of colunms with missing values before filling with -1 : \",len(list(df_listings.columns[df_listings.isnull().mean() > 0])))\n",
    "df_listings = df_listings.fillna(-1)\n",
    "print(\"\\nNumber of colunms with missing values after filling with -1 : \",len(list(df_listings.columns[df_listings.isnull().mean() > 0])))\n"
   ]
  },
  {
   "cell_type": "markdown",
   "metadata": {},
   "source": [
    "#### 4. Data Model (Analysis)\n",
    "\n",
    "\n",
    "Here we try to answer our question from the prepared data:\n",
    "\n",
    "3. Which AirBnB Seattle listings propeitres has the greatest impact on thier prices?\n",
    "\n",
    "First, we will the correlation between the price and other columns:"
   ]
  },
  {
   "cell_type": "code",
   "execution_count": 70,
   "metadata": {},
   "outputs": [],
   "source": [
    "# getting the corralation matrix\n",
    "corr = df_listings.corr()\n",
    "# getting the corralation beween price other columns\n",
    "corr.price.sort_values()\n",
    "\n",
    "# define the data frame with colum corralation value and abslute value of corralation\n",
    "df_price_corr = pd.DataFrame({'column':corr.index,'Corr':corr.price})\n",
    "df_price_corr['abs_Corr'] =  df_price_corr.apply(lambda x: abs(x['Corr']) ,axis=1)\n",
    "df_price_corr = df_price_corr[df_price_corr['column'] != 'price']\n",
    "\n",
    "# sort by abslute value of corralation\n"
   ]
  },
  {
   "cell_type": "code",
   "execution_count": 71,
   "metadata": {},
   "outputs": [
    {
     "data": {
      "text/plain": [
       "''"
      ]
     },
     "execution_count": 71,
     "metadata": {},
     "output_type": "execute_result"
    },
    {
     "data": {
      "image/png": "[encoded data removed]",
      "text/plain": [
       "<Figure size 864x504 with 1 Axes>"
      ]
     },
     "metadata": {
      "needs_background": "light"
     },
     "output_type": "display_data"
    }
   ],
   "source": [
    "#set the figure size\n",
    "plt.figure(figsize=(12,7))\n",
    "\n",
    "# sort by abslute value of corralation and get top 10\n",
    "top_five_price_high_impact_factors = df_price_corr.sort_values(by='abs_Corr', ascending= False).reset_index()[:10]\n",
    "\n",
    "# plot the barplot of booked_listings_counts_by_month counts\n",
    "plot = sb.barplot(y = top_five_price_high_impact_factors.column, x =top_five_price_high_impact_factors.abs_Corr, color = base_color);\n",
    "\n",
    "#set xticklabels, title and labels of plot\n",
    "plt.xlabel('Corralation', fontweight='bold')\n",
    "plt.ylabel('Factors', fontweight='bold') \n",
    "plt.title('Top 10 AirBnB Listings Properties That Impact The Price', fontweight='bold')\n",
    "plot.set_yticklabels([ col.replace('_',' ') for col in top_five_price_high_impact_factors.column ])\n",
    ";"
   ]
  },
  {
   "cell_type": "markdown",
   "metadata": {},
   "source": [
    "#### Results:\n",
    "\n",
    "You can see from the chart above that the most influential listings properties on their prices are how many people the listings accommodates followed by the number of bedrooms and beds.\n",
    "\n",
    "So unless you're planning to travel with a large party, don't look for listings that accommodate a large number of people or it going to come out of your budget."
   ]
  },
  {
   "cell_type": "code",
   "execution_count": null,
   "metadata": {},
   "outputs": [],
   "source": []
  },
  {
   "cell_type": "code",
   "execution_count": null,
   "metadata": {},
   "outputs": [],
   "source": []
  }
 ],
 "metadata": {
  "kernelspec": {
   "display_name": "Python 3",
   "language": "python",
   "name": "python3"
  },
  "language_info": {
   "codemirror_mode": {
    "name": "ipython",
    "version": 3
   },
   "file_extension": ".py",
   "mimetype": "text/x-python",
   "name": "python",
   "nbconvert_exporter": "python",
   "pygments_lexer": "ipython3",
   "version": "3.7.1"
  }
 },
 "nbformat": 4,
 "nbformat_minor": 2
}
